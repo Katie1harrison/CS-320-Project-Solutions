{
 "cells": [
  {
   "cell_type": "code",
   "execution_count": 1,
   "id": "d079e15c-edac-4d7b-8771-dfd2a9e46ce7",
   "metadata": {},
   "outputs": [],
   "source": [
    "# project: p2\n",
    "# submitter: kfharrison\n",
    "# partner: none\n",
    "# hours: 10"
   ]
  },
  {
   "cell_type": "code",
   "execution_count": null,
   "id": "848ddb58-5df5-42c7-94e9-ca38383102ea",
   "metadata": {},
   "outputs": [],
   "source": [
    "\n",
    "\n",
    "\n"
   ]
  },
  {
   "cell_type": "code",
   "execution_count": 2,
   "id": "0074457e-244f-497a-b763-025a7dde2151",
   "metadata": {},
   "outputs": [],
   "source": [
    "import loans\n",
    "import search\n",
    "from time import time\n",
    "import pandas as pd\n",
    "import matplotlib.pyplot as plt\n"
   ]
  },
  {
   "cell_type": "code",
   "execution_count": 3,
   "id": "de6b953b-13f1-4a99-ae66-8dfd8667cbd5",
   "metadata": {},
   "outputs": [],
   "source": [
    "%load_ext autoreload\n",
    "%autoreload 2"
   ]
  },
  {
   "cell_type": "code",
   "execution_count": 4,
   "id": "340d528a-7f19-4c11-b138-4fd71e13c653",
   "metadata": {},
   "outputs": [],
   "source": [
    "# applicant = loans.Applicant(\"<18\", [\"2\", \"1\", \"3\"])\n",
    "# applicant.race\n",
    "\n",
    "# applicant.lower_age()\n",
    "\n",
    "# sorted([\n",
    "#     loans.Applicant(\">75\", [\"43\", \"44\"]),\n",
    "#     loans.Applicant(\"20-30\", [\"1\", \"3\"]),\n",
    "#     loans.Applicant(\"35-44\", [\"22\"]),\n",
    "#     loans.Applicant(\"<25\", [\"5\"]),\n",
    "# ])\n",
    "\n",
    "\n",
    "\n"
   ]
  },
  {
   "cell_type": "code",
   "execution_count": 5,
   "id": "c7ea8218-c155-4b25-a3fa-be1c4c3f819a",
   "metadata": {},
   "outputs": [],
   "source": [
    "# values = {'activity_year': '2020', 'lei': '549300FX7K8PTEQUU487', 'derived_msa-md': '31540', 'state_code': 'WI',\n",
    "#          'county_code': '55025', 'census_tract': '55025002402', 'conforming_loan_limit': 'C',\n",
    "#          'derived_loan_product_type': 'Conventional:First Lien',\n",
    "#          'derived_dwelling_category': 'Single Family (1-4 Units):Site-Built',\n",
    "#          'derived_ethnicity': 'Not Hispanic or Latino', 'derived_race': 'White', 'derived_sex': 'Male',\n",
    "#          'action_taken': '3', 'purchaser_type': '0', 'preapproval': '2', 'loan_type': '1', 'loan_purpose': '4',\n",
    "#          'lien_status': '1', 'reverse_mortgage': '2', 'open-end_line_of_credit': '1',\n",
    "#          'business_or_commercial_purpose': '2', 'loan_amount': '225000.0', 'loan_to_value_ratio': '78.671',\n",
    "#          'interest_rate': '3.000', 'rate_spread': 'NA', 'hoepa_status': '3', 'total_loan_costs': 'NA',\n",
    "#          'total_points_and_fees': 'NA', 'origination_charges': 'NA', 'discount_points': 'NA',\n",
    "#          'lender_credits': 'NA', 'loan_term': '360', 'prepayment_penalty_term': 'NA', 'intro_rate_period': '1',\n",
    "#          'negative_amortization': '2', 'interest_only_payment': '2', 'balloon_payment': '2',\n",
    "#          'other_nonamortizing_features': '2', 'property_value': '285000', 'construction_method': '1',\n",
    "#          'occupancy_type': '1', 'manufactured_home_secured_property_type': '3',\n",
    "#          'manufactured_home_land_property_interest': '5', 'total_units': '1', 'multifamily_affordable_units': 'NA',\n",
    "#          'income': '0', 'debt_to_income_ratio': '>60%', 'applicant_credit_score_type': '1',\n",
    "#          'co-applicant_credit_score_type': '10', 'applicant_ethnicity-1': '2', 'applicant_ethnicity-2': '',\n",
    "#          'applicant_ethnicity-3': '', 'applicant_ethnicity-4': '', 'applicant_ethnicity-5': '',\n",
    "#          'co-applicant_ethnicity-1': '5', 'co-applicant_ethnicity-2': '', 'co-applicant_ethnicity-3': '',\n",
    "#          'co-applicant_ethnicity-4': '', 'co-applicant_ethnicity-5': '', 'applicant_ethnicity_observed': '2',\n",
    "#          'co-applicant_ethnicity_observed': '4', 'applicant_race-1': '5', 'applicant_race-2': '',\n",
    "#          'applicant_race-3': '', 'applicant_race-4': '', 'applicant_race-5': '', 'co-applicant_race-1': '8',\n",
    "#          'co-applicant_race-2': '', 'co-applicant_race-3': '', 'co-applicant_race-4': '', 'co-applicant_race-5': '',\n",
    "#          'applicant_race_observed': '2', 'co-applicant_race_observed': '4', 'applicant_sex': '1',\n",
    "#          'co-applicant_sex': '5', 'applicant_sex_observed': '2', 'co-applicant_sex_observed': '4',\n",
    "#          'applicant_age': '55-64', 'co-applicant_age': '9999', 'applicant_age_above_62': 'Yes',\n",
    "#          'co-applicant_age_above_62': 'NA', 'submission_of_application': '1', 'initially_payable_to_institution': '1',\n",
    "#          'aus-1': '6', 'aus-2': '', 'aus-3': '', 'aus-4': '', 'aus-5': '', 'denial_reason-1': '1',\n",
    "#          'denial_reason-2': '', 'denial_reason-3': '', 'denial_reason-4': '', 'tract_population': '3572',\n",
    "#          'tract_minority_population_percent': '41.1499999999999986', 'ffiec_msa_md_median_family_income': '96600',\n",
    "#          'tract_to_msa_income_percentage': '64', 'tract_owner_occupied_units': '812',\n",
    "#          'tract_one_to_four_family_homes': '910', 'tract_median_age_of_housing_units': '45'}"
   ]
  },
  {
   "cell_type": "code",
   "execution_count": 6,
   "id": "960e1afb-abc1-4e44-b4da-f6188e05129a",
   "metadata": {},
   "outputs": [],
   "source": [
    "# loan = loans.Loan(values)\n",
    "\n",
    "# loan.interest_rate\n",
    "\n",
    "# loan.applicants\n",
    "\n",
    "\n",
    "# print(loan)\n",
    "\n",
    "# for amt in loan.yearly_amounts(20000):\n",
    "#     print(amt)\n",
    "    \n",
    "# uwcu = loans.Bank(\"University of Wisconsin Credit Union\")\n",
    "   \n",
    "# uwcu.lei\n",
    "\n",
    "\n",
    "# print(uwcu.bank_loans[-1])\n",
    "\n",
    "\n",
    "# print(len(uwcu))\n",
    "\n",
    "\n",
    "# tree = search.BST()\n",
    "# tree.add(\"A\", 9)\n",
    "# tree.add(\"A\", 5)\n",
    "# tree.add(\"B\", 22)\n",
    "# tree.add(\"C\", 33)\n",
    "# tree.dump()\n"
   ]
  },
  {
   "cell_type": "code",
   "execution_count": 7,
   "id": "6a676aef-10f3-4194-83a8-b39a728e5aa4",
   "metadata": {},
   "outputs": [
    {
     "data": {
      "text/plain": [
       "2.962962962962963"
      ]
     },
     "execution_count": 7,
     "metadata": {},
     "output_type": "execute_result"
    }
   ],
   "source": [
    "#Q1\n",
    "    \n",
    "    \n",
    "first_home_bank = loans.Bank(\"First Home Bank\")\n",
    "\n",
    "total = 0\n",
    "count = 0\n",
    "for loan in first_home_bank:\n",
    "    if loan.interest_rate != -1:\n",
    "        total += loan.interest_rate\n",
    "        count += 1\n",
    "        \n",
    "total/count\n",
    "\n"
   ]
  },
  {
   "cell_type": "code",
   "execution_count": 8,
   "id": "d7b75990-3083-4b99-a263-ec2ffdd85ab7",
   "metadata": {},
   "outputs": [
    {
     "data": {
      "text/plain": [
       "1.5777777777777777"
      ]
     },
     "execution_count": 8,
     "metadata": {},
     "output_type": "execute_result"
    }
   ],
   "source": [
    "#Q2\n",
    "\n",
    "total = 0\n",
    "count = 0\n",
    "for loan in first_home_bank:\n",
    "    #print(loan.applicants)\n",
    "    \n",
    "    total += len(loan.applicants)\n",
    "    count += 1\n",
    "    \n",
    "total/count          \n",
    "    "
   ]
  },
  {
   "cell_type": "code",
   "execution_count": 9,
   "id": "fbf52cac-0d93-45e5-8f1c-d175b5a081bc",
   "metadata": {},
   "outputs": [
    {
     "data": {
      "text/plain": [
       "{'>74': 5, '65-74': 21, '55-64': 7, '45-54': 21, '35-44': 13, '25-34': 4}"
      ]
     },
     "execution_count": 9,
     "metadata": {},
     "output_type": "execute_result"
    }
   ],
   "source": [
    "#Q3\n",
    "\n",
    "count = 0\n",
    "dfa = {'>74':0,'65-74': 0, '55-64': 0, '45-54': 0, '35-44':0, '25-34' :0} \n",
    "for loan in first_home_bank:    \n",
    "    for person in loan.applicants:\n",
    "        dfa[person.age] += 1\n",
    "dfa"
   ]
  },
  {
   "cell_type": "code",
   "execution_count": 10,
   "id": "b2fde7e6-0fb5-43dd-9003-bd6f6d519ffb",
   "metadata": {},
   "outputs": [],
   "source": [
    "new_bst = search.BST()\n",
    "for loan in first_home_bank:\n",
    "    # print(loan)\n",
    "    # print(loan.interest_rate)\n",
    "    new_bst.add(loan.interest_rate,loan)\n",
    "    \n",
    "\n",
    "\n",
    "# new_bst.root.better_dump()\n",
    "# print(new_bst.root.right.left.key)\n",
    "     \n"
   ]
  },
  {
   "cell_type": "code",
   "execution_count": 11,
   "id": "5c2e415b-517e-4dd5-8dfe-c2580e93a563",
   "metadata": {},
   "outputs": [
    {
     "data": {
      "text/plain": [
       "18"
      ]
     },
     "execution_count": 11,
     "metadata": {},
     "output_type": "execute_result"
    }
   ],
   "source": [
    "#Q4: how many interest rate values are missing?\n",
    "\n",
    "len(new_bst[-1])"
   ]
  },
  {
   "cell_type": "code",
   "execution_count": 12,
   "id": "c0a04236-d68e-47cb-b10a-a37a2a24df74",
   "metadata": {},
   "outputs": [
    {
     "data": {
      "text/plain": [
       "9"
      ]
     },
     "execution_count": 12,
     "metadata": {},
     "output_type": "execute_result"
    }
   ],
   "source": [
    "#Q5\n",
    "\n",
    "def height(self):\n",
    "    #if there is a node, do this\n",
    "    #Base case: if there isn't a node\n",
    "    #h = 0\n",
    "    if self == None:\n",
    "        return 0\n",
    "    else: \n",
    "        left_h =  height(self.left) + 1\n",
    "        right_h = height(self.right) + 1\n",
    "        return max(left_h,right_h) \n",
    "           \n",
    "height(new_bst.root) # how we call it \n"
   ]
  },
  {
   "cell_type": "code",
   "execution_count": 13,
   "id": "d8ef1d5b-a29e-4d1c-83ec-bc5d0aef8ffa",
   "metadata": {},
   "outputs": [
    {
     "data": {
      "text/plain": [
       "<AxesSubplot:xlabel='BTS Adds', ylabel='Total Elapsed Milliseconds'>"
      ]
     },
     "execution_count": 13,
     "metadata": {},
     "output_type": "execute_result"
    },
    {
     "data": {
      "image/png": "[encoded data removed]",
      "text/plain": [
       "<Figure size 640x480 with 1 Axes>"
      ]
     },
     "metadata": {},
     "output_type": "display_data"
    }
   ],
   "source": [
    "#Q6 \n",
    "\n",
    "  \n",
    "\n",
    "uwcu = loans.Bank(\"University of Wisconsin Credit Union\") \n",
    "\n",
    "uwcu_bst = search.BST() \n",
    "\n",
    "  \n",
    "\n",
    "  \n",
    "\n",
    "  \n",
    "\n",
    "count = 0 \n",
    "di ={} \n",
    "t0 = time() \n",
    "\n",
    "for loan in uwcu[:20000]:    \n",
    "\n",
    "        # print(loan) \n",
    "\n",
    "        # print(loan.interest_rate) \n",
    "\n",
    "    uwcu_bst.add(loan.interest_rate,loan) \n",
    "\n",
    "    t1 = time() \n",
    "    count += 1 \n",
    "\n",
    "    di[count] = (t1-t0)*1000 \n",
    "\n",
    "  \n",
    "\n",
    "     \n",
    "\n",
    "plot = pd.Series(di).plot(xlabel = \"BTS Adds\", ylabel = 'Total Elapsed Milliseconds' )\n",
    "\n",
    "plot\n",
    "\n",
    "\n"
   ]
  },
  {
   "cell_type": "code",
   "execution_count": 14,
   "id": "dfbed37c-ea17-402c-b278-dc07021565d9",
   "metadata": {},
   "outputs": [
    {
     "data": {
      "text/plain": [
       "[]"
      ]
     },
     "execution_count": 14,
     "metadata": {},
     "output_type": "execute_result"
    },
    {
     "data": {
      "image/png": "[encoded data removed]",
      "text/plain": [
       "<Figure size 640x480 with 1 Axes>"
      ]
     },
     "metadata": {},
     "output_type": "display_data"
    }
   ],
   "source": [
    "#Q7 \n",
    "\n",
    "  \n",
    "\n",
    "total_time_list = [] \n",
    "\n",
    "dif_methods = [\"Loop\",\"BST\"] \n",
    "\n",
    "counter = 0 \n",
    "\n",
    "t0 = time() \n",
    "\n",
    "for loan in uwcu: \n",
    "\n",
    "    if loan.interest_rate == -1:  \n",
    "\n",
    "        count += 1 \n",
    "\n",
    "t1 = time() \n",
    "\n",
    "total_time_L = (t1-t0)*1000 \n",
    "\n",
    "total_time_list.append(total_time_L) \n",
    "\n",
    "  \n",
    "\n",
    "    \n",
    "t0= time() \n",
    "\n",
    "len(uwcu_bst[-1]) \n",
    "\n",
    "t1 = time() \n",
    "\n",
    "total_time_B = (t1-t0)*1000 \n",
    "\n",
    "total_time_list.append(total_time_B) \n",
    "\n",
    "  \n",
    "\n",
    "plt.bar(dif_methods, total_time_list) \n",
    "\n",
    "plt.ylabel('Milliseconds') \n",
    "\n",
    "plt.plot() \n",
    "\n",
    " "
   ]
  },
  {
   "cell_type": "code",
   "execution_count": 15,
   "id": "082bb6ee-054f-43bf-bc7a-58de4879357b",
   "metadata": {},
   "outputs": [
    {
     "data": {
      "text/plain": [
       "[]"
      ]
     },
     "execution_count": 15,
     "metadata": {},
     "output_type": "execute_result"
    },
    {
     "data": {
      "image/png": "[encoded data removed]",
      "text/plain": [
       "<Figure size 640x480 with 1 Axes>"
      ]
     },
     "metadata": {},
     "output_type": "display_data"
    }
   ],
   "source": [
    "#Q8 \n",
    "\n",
    "  \n",
    "\n",
    "dict_race_count = {} \n",
    "\n",
    "  \n",
    "\n",
    "for loan in uwcu: \n",
    "\n",
    "    for applicant in loan.applicants: \n",
    "\n",
    "        if len(applicant.race) not in dict_race_count: \n",
    "\n",
    "            dict_race_count[len(applicant.race)] = 1 \n",
    "\n",
    "        else: \n",
    "\n",
    "            dict_race_count[len(applicant.race)] += 1 \n",
    "\n",
    "#how to get the list of choosen races from a given loan \n",
    "\n",
    "names = list(dict_race_count.keys()) \n",
    "\n",
    "values = list(dict_race_count.values()) \n",
    "\n",
    "  \n",
    "\n",
    "plt.bar(range(len(dict_race_count)), values, tick_label=names) \n",
    "\n",
    "  \n",
    "\n",
    "plt.ylabel('number of applicants') \n",
    "\n",
    "plt.xlabel('number of chosen races') \n",
    "\n",
    "plt.plot() \n",
    "\n"
   ]
  },
  {
   "cell_type": "code",
   "execution_count": 16,
   "id": "7ee8f7bd-7215-49da-96cb-d417e4703b20",
   "metadata": {},
   "outputs": [
    {
     "data": {
      "text/plain": [
       "9"
      ]
     },
     "execution_count": 16,
     "metadata": {},
     "output_type": "execute_result"
    }
   ],
   "source": [
    "#Q9\n",
    "\n",
    "\n",
    "# new_bst = search.BST()\n",
    "# for loan in first_home_bank:\n",
    "#     # print(loan)\n",
    "#     # print(loan.interest_rate)\n",
    "#     new_bst.add(loan.interest_rate,loan)\n",
    "    \n",
    "    \n",
    "    \n",
    "new_bst\n",
    "\n",
    "def no_nodes(root):\n",
    "    #base case\n",
    "    if root == None:\n",
    "        return 0\n",
    "    #the rest of the jazz\n",
    "    if root.left == None and root.right == None:\n",
    "        return no_nodes(root.left) + no_nodes(root.right) \n",
    "    else:\n",
    "        return no_nodes(root.left) + no_nodes(root.right) +1\n",
    "    \n",
    "no_nodes(new_bst.root)\n",
    "\n"
   ]
  },
  {
   "cell_type": "code",
   "execution_count": 17,
   "id": "0c4b6136-5df0-4fad-a151-1320759347ea",
   "metadata": {},
   "outputs": [
    {
     "data": {
      "text/plain": [
       "6.99"
      ]
     },
     "execution_count": 17,
     "metadata": {},
     "output_type": "execute_result"
    }
   ],
   "source": [
    "#Q10\n",
    "\n",
    "#print(loan.interest_rate)\n",
    "inter_list = set([])\n",
    "for loan in uwcu:\n",
    "    #print(loan)\n",
    "    #print(loan.interest_rate)\n",
    "    inter_list.add(loan.interest_rate)\n",
    "    \n",
    "sorted(inter_list,reverse = True)[1]\n",
    "    "
   ]
  },
  {
   "cell_type": "code",
   "execution_count": null,
   "id": "b30b4d94-7f10-4ed9-8619-32ae7bd8b9ad",
   "metadata": {},
   "outputs": [],
   "source": []
  },
  {
   "cell_type": "code",
   "execution_count": null,
   "id": "907ac953-d8b5-43d5-9032-e81d51187ad5",
   "metadata": {},
   "outputs": [],
   "source": []
  }
 ],
 "metadata": {
  "kernelspec": {
   "display_name": "Python 3 (ipykernel)",
   "language": "python",
   "name": "python3"
  },
  "language_info": {
   "codemirror_mode": {
    "name": "ipython",
    "version": 3
   },
   "file_extension": ".py",
   "mimetype": "text/x-python",
   "name": "python",
   "nbconvert_exporter": "python",
   "pygments_lexer": "ipython3",
   "version": "3.8.10"
  }
 },
 "nbformat": 4,
 "nbformat_minor": 5
}
