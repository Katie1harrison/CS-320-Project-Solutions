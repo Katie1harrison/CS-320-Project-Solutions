{
 "cells": [
  {
   "cell_type": "code",
   "execution_count": 1,
   "id": "da75ff5b-60f6-4c4d-9cc5-2ba354f01773",
   "metadata": {},
   "outputs": [
    {
     "name": "stdout",
     "output_type": "stream",
     "text": [
      "A 3\n",
      "A 2\n",
      "A 1\n",
      "B 5\n",
      "B 4\n",
      "B 3\n",
      "B 2\n",
      "B 1\n"
     ]
    }
   ],
   "source": [
    "import time\n",
    "\n",
    "def f(name, n):\n",
    "    for i in range(n):\n",
    "        print(name, n-i)\n",
    "        time.sleep(1)\n",
    "\n",
    "f(\"A\", 3)\n",
    "f(\"B\", 5)"
   ]
  },
  {
   "cell_type": "code",
   "execution_count": 4,
   "id": "3ab1fe38-79e8-474a-b5fb-66c97912f42b",
   "metadata": {},
   "outputs": [
    {
     "name": "stdout",
     "output_type": "stream",
     "text": [
      "A 3\n",
      "B 5\n",
      "A 2\n",
      "B 4\n",
      "A 1\n",
      "B 3\n",
      "B 2\n",
      "B 1\n",
      "hi\n"
     ]
    }
   ],
   "source": [
    "from threading import Thread\n",
    "t1 = Thread(target=f, args=(\"A\", 3))\n",
    "t2 = Thread(target=f, args=(\"B\", 5))\n",
    "t1.start()\n",
    "t2.start()\n",
    "t1.join()\n",
    "t2.join()\n",
    "\n",
    "print(\"hi\")"
   ]
  },
  {
   "cell_type": "code",
   "execution_count": 5,
   "id": "96a68923-96c1-46c6-9d82-98e36059141c",
   "metadata": {},
   "outputs": [],
   "source": [
    "from multiprocessing import Pool"
   ]
  },
  {
   "cell_type": "code",
   "execution_count": 7,
   "id": "a7f26b10-32ea-49f0-a8d8-54a373394d25",
   "metadata": {},
   "outputs": [],
   "source": [
    "def double(x):\n",
    "    return x * 2"
   ]
  },
  {
   "cell_type": "code",
   "execution_count": 9,
   "id": "46de370f-8806-4b80-a4bf-df6b542ae971",
   "metadata": {},
   "outputs": [
    {
     "name": "stdout",
     "output_type": "stream",
     "text": [
      "14\n",
      "16\n",
      "18\n"
     ]
    }
   ],
   "source": [
    "for result in map(double, [7,8,9]):\n",
    "    print(result)"
   ]
  },
  {
   "cell_type": "code",
   "execution_count": 11,
   "id": "8e3842e9-1b42-47b4-9e93-3ba2916b4e8e",
   "metadata": {},
   "outputs": [
    {
     "name": "stdout",
     "output_type": "stream",
     "text": [
      "0.09441375732421875\n"
     ]
    }
   ],
   "source": [
    "t0 = time.time()\n",
    "list(map(double, [7,8,9]))\n",
    "t1 = time.time()\n",
    "print((t1 - t0) * 1000)"
   ]
  },
  {
   "cell_type": "code",
   "execution_count": 15,
   "id": "608db482-2107-40ca-b10b-12a450cf8ecd",
   "metadata": {},
   "outputs": [
    {
     "name": "stdout",
     "output_type": "stream",
     "text": [
      "[14, 16, 18]\n",
      "16.66736602783203\n"
     ]
    }
   ],
   "source": [
    "t0 = time.time()\n",
    "with Pool() as p:\n",
    "    results = p.map(double, [7,8,9])\n",
    "t1 = time.time()\n",
    "print(results)\n",
    "print((t1 - t0) * 1000)"
   ]
  },
  {
   "cell_type": "code",
   "execution_count": 18,
   "id": "c17db4e9-62ac-47a7-8530-c9d0666dd69a",
   "metadata": {},
   "outputs": [
    {
     "data": {
      "text/plain": [
       "'<html><body>\\n<h1>Node: 2</h1>\\n<h3>Children:</h3>\\n<ul>\\n<li><a href=\"0.html\">0</a><li><a href=\"1.html\">1</a></ul>\\n</body></html>\\n'"
      ]
     },
     "execution_count": 18,
     "metadata": {},
     "output_type": "execute_result"
    }
   ],
   "source": [
    "import requests\n",
    "\n",
    "def get_page(page_num):\n",
    "    url = f\"https://tyler.caraza-harter.com/cs320/crawl/practice7/{page_num}.html\"\n",
    "    r = requests.get(url)\n",
    "    r.raise_for_status()\n",
    "    return r.text\n",
    "\n",
    "get_page(2)"
   ]
  },
  {
   "cell_type": "code",
   "execution_count": 23,
   "id": "0149e1ac-7f2a-4568-a96f-45e49cc3970e",
   "metadata": {},
   "outputs": [
    {
     "name": "stdout",
     "output_type": "stream",
     "text": [
      "2222.557306289673\n"
     ]
    },
    {
     "data": {
      "text/plain": [
       "['<html><body>\\n<h1>Node: 0</h1>\\n<h3>Children:</h3>\\n<ul>\\n<li><a href=\"16.html\">16</a><li><a href=\"17.html\">17</a><li><a href=\"6.html\">6</a><li><a href=\"12.html\">12</a></ul>\\n</body></html>\\n',\n",
       " '<html><body>\\n<h1>Node: 1</h1>\\n<h3>Children:</h3>\\n<ul>\\n<li><a href=\"0.html\">0</a><li><a href=\"2.html\">2</a></ul>\\n</body></html>\\n',\n",
       " '<html><body>\\n<h1>Node: 2</h1>\\n<h3>Children:</h3>\\n<ul>\\n<li><a href=\"0.html\">0</a><li><a href=\"1.html\">1</a></ul>\\n</body></html>\\n',\n",
       " '<html><body>\\n<h1>Node: 3</h1>\\n<h3>Children:</h3>\\n<ul>\\n<li><a href=\"2.html\">2</a><li><a href=\"4.html\">4</a></ul>\\n</body></html>\\n',\n",
       " '<html><body>\\n<h1>Node: 4</h1>\\n<h3>Children:</h3>\\n<ul>\\n<li><a href=\"2.html\">2</a><li><a href=\"3.html\">3</a></ul>\\n</body></html>\\n',\n",
       " '<html><body>\\n<h1>Node: 5</h1>\\n<h3>Children:</h3>\\n<ul>\\n<li><a href=\"4.html\">4</a><li><a href=\"6.html\">6</a></ul>\\n</body></html>\\n',\n",
       " '<html><body>\\n<h1>Node: 6</h1>\\n<h3>Children:</h3>\\n<ul>\\n<li><a href=\"4.html\">4</a><li><a href=\"5.html\">5</a><li><a href=\"0.html\">0</a><li><a href=\"12.html\">12</a></ul>\\n</body></html>\\n',\n",
       " '<html><body>\\n<h1>Node: 7</h1>\\n<h3>Children:</h3>\\n<ul>\\n<li><a href=\"6.html\">6</a><li><a href=\"8.html\">8</a></ul>\\n</body></html>\\n',\n",
       " '<html><body>\\n<h1>Node: 8</h1>\\n<h3>Children:</h3>\\n<ul>\\n<li><a href=\"6.html\">6</a><li><a href=\"7.html\">7</a></ul>\\n</body></html>\\n',\n",
       " '<html><body>\\n<h1>Node: 9</h1>\\n<h3>Children:</h3>\\n<ul>\\n<li><a href=\"8.html\">8</a><li><a href=\"10.html\">10</a></ul>\\n</body></html>\\n',\n",
       " '<html><body>\\n<h1>Node: 10</h1>\\n<h3>Children:</h3>\\n<ul>\\n<li><a href=\"8.html\">8</a><li><a href=\"9.html\">9</a></ul>\\n</body></html>\\n',\n",
       " '<html><body>\\n<h1>Node: 11</h1>\\n<h3>Children:</h3>\\n<ul>\\n<li><a href=\"10.html\">10</a><li><a href=\"12.html\">12</a></ul>\\n</body></html>\\n',\n",
       " '<html><body>\\n<h1>Node: 12</h1>\\n<h3>Children:</h3>\\n<ul>\\n<li><a href=\"10.html\">10</a><li><a href=\"11.html\">11</a><li><a href=\"0.html\">0</a><li><a href=\"6.html\">6</a></ul>\\n</body></html>\\n',\n",
       " '<html><body>\\n<h1>Node: 13</h1>\\n<h3>Children:</h3>\\n<ul>\\n<li><a href=\"12.html\">12</a><li><a href=\"14.html\">14</a></ul>\\n</body></html>\\n',\n",
       " '<html><body>\\n<h1>Node: 14</h1>\\n<h3>Children:</h3>\\n<ul>\\n<li><a href=\"12.html\">12</a><li><a href=\"13.html\">13</a></ul>\\n</body></html>\\n',\n",
       " '<html><body>\\n<h1>Node: 15</h1>\\n<h3>Children:</h3>\\n<ul>\\n<li><a href=\"14.html\">14</a><li><a href=\"16.html\">16</a></ul>\\n</body></html>\\n',\n",
       " '<html><body>\\n<h1>Node: 16</h1>\\n<h3>Children:</h3>\\n<ul>\\n<li><a href=\"14.html\">14</a><li><a href=\"15.html\">15</a></ul>\\n</body></html>\\n',\n",
       " '<html><body>\\n<h1>Node: 17</h1>\\n<h3>Children:</h3>\\n<ul>\\n<li><a href=\"0.html\">0</a><li><a href=\"16.html\">16</a></ul>\\n</body></html>\\n']"
      ]
     },
     "execution_count": 23,
     "metadata": {},
     "output_type": "execute_result"
    }
   ],
   "source": [
    "t0 = time.time()\n",
    "with Pool(1) as p:\n",
    "    results = p.map(get_page, range(18))\n",
    "t1 = time.time()\n",
    "print((t1-t0) * 1000)\n",
    "results"
   ]
  },
  {
   "cell_type": "code",
   "execution_count": 24,
   "id": "703d694a-4885-421d-9227-7f2d9af01b55",
   "metadata": {},
   "outputs": [
    {
     "name": "stdout",
     "output_type": "stream",
     "text": [
      "1000.9868144989014\n"
     ]
    },
    {
     "data": {
      "text/plain": [
       "['<html><body>\\n<h1>Node: 0</h1>\\n<h3>Children:</h3>\\n<ul>\\n<li><a href=\"16.html\">16</a><li><a href=\"17.html\">17</a><li><a href=\"6.html\">6</a><li><a href=\"12.html\">12</a></ul>\\n</body></html>\\n',\n",
       " '<html><body>\\n<h1>Node: 1</h1>\\n<h3>Children:</h3>\\n<ul>\\n<li><a href=\"0.html\">0</a><li><a href=\"2.html\">2</a></ul>\\n</body></html>\\n',\n",
       " '<html><body>\\n<h1>Node: 2</h1>\\n<h3>Children:</h3>\\n<ul>\\n<li><a href=\"0.html\">0</a><li><a href=\"1.html\">1</a></ul>\\n</body></html>\\n',\n",
       " '<html><body>\\n<h1>Node: 3</h1>\\n<h3>Children:</h3>\\n<ul>\\n<li><a href=\"2.html\">2</a><li><a href=\"4.html\">4</a></ul>\\n</body></html>\\n',\n",
       " '<html><body>\\n<h1>Node: 4</h1>\\n<h3>Children:</h3>\\n<ul>\\n<li><a href=\"2.html\">2</a><li><a href=\"3.html\">3</a></ul>\\n</body></html>\\n',\n",
       " '<html><body>\\n<h1>Node: 5</h1>\\n<h3>Children:</h3>\\n<ul>\\n<li><a href=\"4.html\">4</a><li><a href=\"6.html\">6</a></ul>\\n</body></html>\\n',\n",
       " '<html><body>\\n<h1>Node: 6</h1>\\n<h3>Children:</h3>\\n<ul>\\n<li><a href=\"4.html\">4</a><li><a href=\"5.html\">5</a><li><a href=\"0.html\">0</a><li><a href=\"12.html\">12</a></ul>\\n</body></html>\\n',\n",
       " '<html><body>\\n<h1>Node: 7</h1>\\n<h3>Children:</h3>\\n<ul>\\n<li><a href=\"6.html\">6</a><li><a href=\"8.html\">8</a></ul>\\n</body></html>\\n',\n",
       " '<html><body>\\n<h1>Node: 8</h1>\\n<h3>Children:</h3>\\n<ul>\\n<li><a href=\"6.html\">6</a><li><a href=\"7.html\">7</a></ul>\\n</body></html>\\n',\n",
       " '<html><body>\\n<h1>Node: 9</h1>\\n<h3>Children:</h3>\\n<ul>\\n<li><a href=\"8.html\">8</a><li><a href=\"10.html\">10</a></ul>\\n</body></html>\\n',\n",
       " '<html><body>\\n<h1>Node: 10</h1>\\n<h3>Children:</h3>\\n<ul>\\n<li><a href=\"8.html\">8</a><li><a href=\"9.html\">9</a></ul>\\n</body></html>\\n',\n",
       " '<html><body>\\n<h1>Node: 11</h1>\\n<h3>Children:</h3>\\n<ul>\\n<li><a href=\"10.html\">10</a><li><a href=\"12.html\">12</a></ul>\\n</body></html>\\n',\n",
       " '<html><body>\\n<h1>Node: 12</h1>\\n<h3>Children:</h3>\\n<ul>\\n<li><a href=\"10.html\">10</a><li><a href=\"11.html\">11</a><li><a href=\"0.html\">0</a><li><a href=\"6.html\">6</a></ul>\\n</body></html>\\n',\n",
       " '<html><body>\\n<h1>Node: 13</h1>\\n<h3>Children:</h3>\\n<ul>\\n<li><a href=\"12.html\">12</a><li><a href=\"14.html\">14</a></ul>\\n</body></html>\\n',\n",
       " '<html><body>\\n<h1>Node: 14</h1>\\n<h3>Children:</h3>\\n<ul>\\n<li><a href=\"12.html\">12</a><li><a href=\"13.html\">13</a></ul>\\n</body></html>\\n',\n",
       " '<html><body>\\n<h1>Node: 15</h1>\\n<h3>Children:</h3>\\n<ul>\\n<li><a href=\"14.html\">14</a><li><a href=\"16.html\">16</a></ul>\\n</body></html>\\n',\n",
       " '<html><body>\\n<h1>Node: 16</h1>\\n<h3>Children:</h3>\\n<ul>\\n<li><a href=\"14.html\">14</a><li><a href=\"15.html\">15</a></ul>\\n</body></html>\\n',\n",
       " '<html><body>\\n<h1>Node: 17</h1>\\n<h3>Children:</h3>\\n<ul>\\n<li><a href=\"0.html\">0</a><li><a href=\"16.html\">16</a></ul>\\n</body></html>\\n']"
      ]
     },
     "execution_count": 24,
     "metadata": {},
     "output_type": "execute_result"
    }
   ],
   "source": [
    "t0 = time.time()\n",
    "with Pool(4) as p:\n",
    "    results = p.map(get_page, range(18))\n",
    "t1 = time.time()\n",
    "print((t1-t0) * 1000)\n",
    "results"
   ]
  },
  {
   "cell_type": "code",
   "execution_count": 25,
   "id": "ec138716-f134-4ec8-817b-8ada270e38da",
   "metadata": {},
   "outputs": [
    {
     "name": "stdout",
     "output_type": "stream",
     "text": [
      "1117.2430515289307\n"
     ]
    },
    {
     "data": {
      "text/plain": [
       "['<html><body>\\n<h1>Node: 0</h1>\\n<h3>Children:</h3>\\n<ul>\\n<li><a href=\"16.html\">16</a><li><a href=\"17.html\">17</a><li><a href=\"6.html\">6</a><li><a href=\"12.html\">12</a></ul>\\n</body></html>\\n',\n",
       " '<html><body>\\n<h1>Node: 1</h1>\\n<h3>Children:</h3>\\n<ul>\\n<li><a href=\"0.html\">0</a><li><a href=\"2.html\">2</a></ul>\\n</body></html>\\n',\n",
       " '<html><body>\\n<h1>Node: 2</h1>\\n<h3>Children:</h3>\\n<ul>\\n<li><a href=\"0.html\">0</a><li><a href=\"1.html\">1</a></ul>\\n</body></html>\\n',\n",
       " '<html><body>\\n<h1>Node: 3</h1>\\n<h3>Children:</h3>\\n<ul>\\n<li><a href=\"2.html\">2</a><li><a href=\"4.html\">4</a></ul>\\n</body></html>\\n',\n",
       " '<html><body>\\n<h1>Node: 4</h1>\\n<h3>Children:</h3>\\n<ul>\\n<li><a href=\"2.html\">2</a><li><a href=\"3.html\">3</a></ul>\\n</body></html>\\n',\n",
       " '<html><body>\\n<h1>Node: 5</h1>\\n<h3>Children:</h3>\\n<ul>\\n<li><a href=\"4.html\">4</a><li><a href=\"6.html\">6</a></ul>\\n</body></html>\\n',\n",
       " '<html><body>\\n<h1>Node: 6</h1>\\n<h3>Children:</h3>\\n<ul>\\n<li><a href=\"4.html\">4</a><li><a href=\"5.html\">5</a><li><a href=\"0.html\">0</a><li><a href=\"12.html\">12</a></ul>\\n</body></html>\\n',\n",
       " '<html><body>\\n<h1>Node: 7</h1>\\n<h3>Children:</h3>\\n<ul>\\n<li><a href=\"6.html\">6</a><li><a href=\"8.html\">8</a></ul>\\n</body></html>\\n',\n",
       " '<html><body>\\n<h1>Node: 8</h1>\\n<h3>Children:</h3>\\n<ul>\\n<li><a href=\"6.html\">6</a><li><a href=\"7.html\">7</a></ul>\\n</body></html>\\n',\n",
       " '<html><body>\\n<h1>Node: 9</h1>\\n<h3>Children:</h3>\\n<ul>\\n<li><a href=\"8.html\">8</a><li><a href=\"10.html\">10</a></ul>\\n</body></html>\\n',\n",
       " '<html><body>\\n<h1>Node: 10</h1>\\n<h3>Children:</h3>\\n<ul>\\n<li><a href=\"8.html\">8</a><li><a href=\"9.html\">9</a></ul>\\n</body></html>\\n',\n",
       " '<html><body>\\n<h1>Node: 11</h1>\\n<h3>Children:</h3>\\n<ul>\\n<li><a href=\"10.html\">10</a><li><a href=\"12.html\">12</a></ul>\\n</body></html>\\n',\n",
       " '<html><body>\\n<h1>Node: 12</h1>\\n<h3>Children:</h3>\\n<ul>\\n<li><a href=\"10.html\">10</a><li><a href=\"11.html\">11</a><li><a href=\"0.html\">0</a><li><a href=\"6.html\">6</a></ul>\\n</body></html>\\n',\n",
       " '<html><body>\\n<h1>Node: 13</h1>\\n<h3>Children:</h3>\\n<ul>\\n<li><a href=\"12.html\">12</a><li><a href=\"14.html\">14</a></ul>\\n</body></html>\\n',\n",
       " '<html><body>\\n<h1>Node: 14</h1>\\n<h3>Children:</h3>\\n<ul>\\n<li><a href=\"12.html\">12</a><li><a href=\"13.html\">13</a></ul>\\n</body></html>\\n',\n",
       " '<html><body>\\n<h1>Node: 15</h1>\\n<h3>Children:</h3>\\n<ul>\\n<li><a href=\"14.html\">14</a><li><a href=\"16.html\">16</a></ul>\\n</body></html>\\n',\n",
       " '<html><body>\\n<h1>Node: 16</h1>\\n<h3>Children:</h3>\\n<ul>\\n<li><a href=\"14.html\">14</a><li><a href=\"15.html\">15</a></ul>\\n</body></html>\\n',\n",
       " '<html><body>\\n<h1>Node: 17</h1>\\n<h3>Children:</h3>\\n<ul>\\n<li><a href=\"0.html\">0</a><li><a href=\"16.html\">16</a></ul>\\n</body></html>\\n']"
      ]
     },
     "execution_count": 25,
     "metadata": {},
     "output_type": "execute_result"
    }
   ],
   "source": [
    "t0 = time.time()\n",
    "with Pool(18) as p:\n",
    "    results = p.map(get_page, range(18))\n",
    "t1 = time.time()\n",
    "print((t1-t0) * 1000)\n",
    "results"
   ]
  },
  {
   "cell_type": "code",
   "execution_count": 27,
   "id": "af642df4-98bd-4532-a43e-159242710746",
   "metadata": {},
   "outputs": [
    {
     "ename": "HTTPError",
     "evalue": "404 Client Error: Not Found for url: https://tyler.caraza-harter.com/cs320/crawl/practice7/18.html",
     "output_type": "error",
     "traceback": [
      "\u001b[0;31m---------------------------------------------------------------------------\u001b[0m",
      "\u001b[0;31mRemoteTraceback\u001b[0m                           Traceback (most recent call last)",
      "\u001b[0;31mRemoteTraceback\u001b[0m: \n\"\"\"\nTraceback (most recent call last):\n  File \"/usr/lib/python3.10/multiprocessing/pool.py\", line 125, in worker\n    result = (True, func(*args, **kwds))\n  File \"/usr/lib/python3.10/multiprocessing/pool.py\", line 48, in mapstar\n    return list(map(*args))\n  File \"/tmp/ipykernel_81304/3834303617.py\", line 6, in get_page\n    r.raise_for_status()\n  File \"/usr/lib/python3/dist-packages/requests/models.py\", line 943, in raise_for_status\n    raise HTTPError(http_error_msg, response=self)\nrequests.exceptions.HTTPError: 404 Client Error: Not Found for url: https://tyler.caraza-harter.com/cs320/crawl/practice7/18.html\n\"\"\"",
      "\nThe above exception was the direct cause of the following exception:\n",
      "\u001b[0;31mHTTPError\u001b[0m                                 Traceback (most recent call last)",
      "Input \u001b[0;32mIn [27]\u001b[0m, in \u001b[0;36m<cell line: 2>\u001b[0;34m()\u001b[0m\n\u001b[1;32m      1\u001b[0m \u001b[38;5;66;03m# bug 1\u001b[39;00m\n\u001b[1;32m      2\u001b[0m \u001b[38;5;28;01mwith\u001b[39;00m Pool(\u001b[38;5;241m4\u001b[39m) \u001b[38;5;28;01mas\u001b[39;00m p:\n\u001b[0;32m----> 3\u001b[0m     results \u001b[38;5;241m=\u001b[39m \u001b[43mp\u001b[49m\u001b[38;5;241;43m.\u001b[39;49m\u001b[43mmap\u001b[49m\u001b[43m(\u001b[49m\u001b[43mget_page\u001b[49m\u001b[43m,\u001b[49m\u001b[43m \u001b[49m\u001b[38;5;28;43mrange\u001b[39;49m\u001b[43m(\u001b[49m\u001b[38;5;241;43m20\u001b[39;49m\u001b[43m)\u001b[49m\u001b[43m)\u001b[49m\n",
      "File \u001b[0;32m/usr/lib/python3.10/multiprocessing/pool.py:367\u001b[0m, in \u001b[0;36mPool.map\u001b[0;34m(self, func, iterable, chunksize)\u001b[0m\n\u001b[1;32m    362\u001b[0m \u001b[38;5;28;01mdef\u001b[39;00m \u001b[38;5;21mmap\u001b[39m(\u001b[38;5;28mself\u001b[39m, func, iterable, chunksize\u001b[38;5;241m=\u001b[39m\u001b[38;5;28;01mNone\u001b[39;00m):\n\u001b[1;32m    363\u001b[0m     \u001b[38;5;124;03m'''\u001b[39;00m\n\u001b[1;32m    364\u001b[0m \u001b[38;5;124;03m    Apply `func` to each element in `iterable`, collecting the results\u001b[39;00m\n\u001b[1;32m    365\u001b[0m \u001b[38;5;124;03m    in a list that is returned.\u001b[39;00m\n\u001b[1;32m    366\u001b[0m \u001b[38;5;124;03m    '''\u001b[39;00m\n\u001b[0;32m--> 367\u001b[0m     \u001b[38;5;28;01mreturn\u001b[39;00m \u001b[38;5;28;43mself\u001b[39;49m\u001b[38;5;241;43m.\u001b[39;49m\u001b[43m_map_async\u001b[49m\u001b[43m(\u001b[49m\u001b[43mfunc\u001b[49m\u001b[43m,\u001b[49m\u001b[43m \u001b[49m\u001b[43miterable\u001b[49m\u001b[43m,\u001b[49m\u001b[43m \u001b[49m\u001b[43mmapstar\u001b[49m\u001b[43m,\u001b[49m\u001b[43m \u001b[49m\u001b[43mchunksize\u001b[49m\u001b[43m)\u001b[49m\u001b[38;5;241;43m.\u001b[39;49m\u001b[43mget\u001b[49m\u001b[43m(\u001b[49m\u001b[43m)\u001b[49m\n",
      "File \u001b[0;32m/usr/lib/python3.10/multiprocessing/pool.py:774\u001b[0m, in \u001b[0;36mApplyResult.get\u001b[0;34m(self, timeout)\u001b[0m\n\u001b[1;32m    772\u001b[0m     \u001b[38;5;28;01mreturn\u001b[39;00m \u001b[38;5;28mself\u001b[39m\u001b[38;5;241m.\u001b[39m_value\n\u001b[1;32m    773\u001b[0m \u001b[38;5;28;01melse\u001b[39;00m:\n\u001b[0;32m--> 774\u001b[0m     \u001b[38;5;28;01mraise\u001b[39;00m \u001b[38;5;28mself\u001b[39m\u001b[38;5;241m.\u001b[39m_value\n",
      "\u001b[0;31mHTTPError\u001b[0m: 404 Client Error: Not Found for url: https://tyler.caraza-harter.com/cs320/crawl/practice7/18.html"
     ]
    }
   ],
   "source": [
    "# bug 1\n",
    "with Pool(4) as p:\n",
    "    results = p.map(get_page, range(20)) # we don't have that many pages"
   ]
  },
  {
   "cell_type": "code",
   "execution_count": 32,
   "id": "560aaa3c-0004-411a-bb30-57b9b6d2e928",
   "metadata": {},
   "outputs": [
    {
     "data": {
      "text/plain": [
       "81304"
      ]
     },
     "execution_count": 32,
     "metadata": {},
     "output_type": "execute_result"
    }
   ],
   "source": [
    "import os\n",
    "os.getpid() # get a unique process ID"
   ]
  },
  {
   "cell_type": "code",
   "execution_count": 33,
   "id": "bf6a544e-ea7c-4153-9ba1-0392b7973783",
   "metadata": {},
   "outputs": [],
   "source": [
    "import requests\n",
    "\n",
    "status_codes = []\n",
    "\n",
    "def get_page(page_num):\n",
    "    url = f\"https://tyler.caraza-harter.com/cs320/crawl/practice7/{page_num}.html\"\n",
    "    r = requests.get(url)\n",
    "    status_codes.append(r.status_code) # bug 2\n",
    "    # ADVICE: don't use global variables with Pools -- return anything you need\n",
    "    \n",
    "    print(os.getpid(), status_codes)\n",
    "    r.raise_for_status()\n",
    "    return r.text"
   ]
  },
  {
   "cell_type": "code",
   "execution_count": 34,
   "id": "1ca32d78-e2cf-4f6f-87f5-aef6075862f9",
   "metadata": {},
   "outputs": [
    {
     "name": "stdout",
     "output_type": "stream",
     "text": [
      "818578185581854 81856 [200][200]  \n",
      "\n",
      "[200][200]\n",
      "\n",
      "81854 [200, 200]\n",
      "81855 [200, 200]81857 \n",
      "[200, 200]\n",
      "81856 [200, 200]\n",
      "81854 [200, 200, 200]\n",
      "8185781855  [200, 200, 200][200, 200, 200]\n",
      "81856\n",
      " [200, 200, 200]\n",
      "81854 [200, 200, 200, 200]\n",
      "81857 81855[200, 200, 200, 200]\n",
      " [200, 200, 200, 200]\n",
      "81856 [200, 200, 200, 200]\n",
      "81854 [200, 200, 200, 200, 200]\n",
      "81854 [200, 200, 200, 200, 200, 200]\n"
     ]
    }
   ],
   "source": [
    "with Pool(4) as p:\n",
    "    results = p.map(get_page, range(18))"
   ]
  },
  {
   "cell_type": "code",
   "execution_count": 35,
   "id": "1faa8afe-c8cd-4f5e-a4bb-dd280e409bf4",
   "metadata": {},
   "outputs": [
    {
     "name": "stdout",
     "output_type": "stream",
     "text": [
      "81304 []\n"
     ]
    }
   ],
   "source": [
    "print(os.getpid(), status_codes)"
   ]
  }
 ],
 "metadata": {
  "kernelspec": {
   "display_name": "Python 3 (ipykernel)",
   "language": "python",
   "name": "python3"
  },
  "language_info": {
   "codemirror_mode": {
    "name": "ipython",
    "version": 3
   },
   "file_extension": ".py",
   "mimetype": "text/x-python",
   "name": "python",
   "nbconvert_exporter": "python",
   "pygments_lexer": "ipython3",
   "version": "3.10.6"
  }
 },
 "nbformat": 4,
 "nbformat_minor": 5
}
