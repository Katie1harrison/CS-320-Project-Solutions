{
 "cells": [
  {
   "cell_type": "code",
   "execution_count": 4,
   "id": "3586bbb7-2d1c-4f9b-aee0-377fdae61d6c",
   "metadata": {},
   "outputs": [
    {
     "data": {
      "text/html": [
       "<div>\n",
       "<style scoped>\n",
       "    .dataframe tbody tr th:only-of-type {\n",
       "        vertical-align: middle;\n",
       "    }\n",
       "\n",
       "    .dataframe tbody tr th {\n",
       "        vertical-align: top;\n",
       "    }\n",
       "\n",
       "    .dataframe thead th {\n",
       "        text-align: right;\n",
       "    }\n",
       "</style>\n",
       "<table border=\"1\" class=\"dataframe\">\n",
       "  <thead>\n",
       "    <tr style=\"text-align: right;\">\n",
       "      <th></th>\n",
       "      <th>beach</th>\n",
       "      <th>wave</th>\n",
       "    </tr>\n",
       "  </thead>\n",
       "  <tbody>\n",
       "    <tr>\n",
       "      <th>4</th>\n",
       "      <td>B</td>\n",
       "      <td>2.3</td>\n",
       "    </tr>\n",
       "    <tr>\n",
       "      <th>0</th>\n",
       "      <td>A</td>\n",
       "      <td>1.5</td>\n",
       "    </tr>\n",
       "    <tr>\n",
       "      <th>1</th>\n",
       "      <td>A</td>\n",
       "      <td>1.4</td>\n",
       "    </tr>\n",
       "    <tr>\n",
       "      <th>5</th>\n",
       "      <td>B</td>\n",
       "      <td>2.3</td>\n",
       "    </tr>\n",
       "    <tr>\n",
       "      <th>10</th>\n",
       "      <td>C</td>\n",
       "      <td>3.5</td>\n",
       "    </tr>\n",
       "    <tr>\n",
       "      <th>2</th>\n",
       "      <td>A</td>\n",
       "      <td>1.5</td>\n",
       "    </tr>\n",
       "  </tbody>\n",
       "</table>\n",
       "</div>"
      ],
      "text/plain": [
       "   beach  wave\n",
       "4      B   2.3\n",
       "0      A   1.5\n",
       "1      A   1.4\n",
       "5      B   2.3\n",
       "10     C   3.5\n",
       "2      A   1.5"
      ]
     },
     "execution_count": 4,
     "metadata": {},
     "output_type": "execute_result"
    }
   ],
   "source": [
    "import numpy as np\n",
    "import pandas as pd\n",
    "from sklearn.model_selection import train_test_split\n",
    "from sklearn.pipeline import Pipeline\n",
    "from sklearn.preprocessing import OneHotEncoder\n",
    "from sklearn.linear_model import LinearRegression\n",
    "from sklearn.metrics import r2_score\n",
    "\n",
    "df = pd.DataFrame({\n",
    "    \"beach\": [\"A\",\"A\",\"A\",\"A\",  \"B\",\"B\",\"B\",\"B\",  \"C\",\"C\",\"C\",\"C\"],\n",
    "    \"wave\": [1.5,1.4,1.5,1.6,  2.3,2.3,2.6,2.5,  3.6,3.4,3.5,3.4]\n",
    "})\n",
    "train, test = train_test_split(df, test_size=0.5, random_state=320)\n",
    "train"
   ]
  },
  {
   "cell_type": "code",
   "execution_count": 5,
   "id": "7e763980-4229-4199-81d7-e70acae976f5",
   "metadata": {},
   "outputs": [
    {
     "data": {
      "text/plain": [
       "0.9390127692014484"
      ]
     },
     "execution_count": 5,
     "metadata": {},
     "output_type": "execute_result"
    }
   ],
   "source": [
    "model = Pipeline([\n",
    "    (\"oh\", OneHotEncoder()),\n",
    "    (\"lr\", LinearRegression())\n",
    "])\n",
    "model.fit(train[[\"beach\"]], train[\"wave\"])\n",
    "model.score(test[[\"beach\"]], test[\"wave\"])"
   ]
  },
  {
   "cell_type": "markdown",
   "id": "9ca7ad84-9129-4c85-84cb-5a8545860b03",
   "metadata": {},
   "source": [
    "# Can we build the above model from scratch?"
   ]
  },
  {
   "cell_type": "code",
   "execution_count": 56,
   "id": "0026917f-691e-4f08-a72c-c94054314a1b",
   "metadata": {},
   "outputs": [
    {
     "name": "stdout",
     "output_type": "stream",
     "text": [
      "    A  B  C\n",
      "4   0  1  0\n",
      "0   1  0  0\n",
      "1   1  0  0\n",
      "5   0  1  0\n",
      "10  0  0  1\n",
      "2   1  0  0\n",
      "(6, 3) (6,)\n",
      "    A  B  C\n",
      "6   0  1  0\n",
      "7   0  1  0\n",
      "11  0  0  1\n",
      "9   0  0  1\n",
      "8   0  0  1\n",
      "3   1  0  0\n",
      "predict\n"
     ]
    },
    {
     "data": {
      "text/plain": [
       "0.9390127692014484"
      ]
     },
     "execution_count": 3,
     "metadata": {},
     "output_type": "execute_result"
    }
   ],
   "source": [
    "class Pipeline:\n",
    "    def __init__(self, steps):\n",
    "        self.steps = steps\n",
    "        \n",
    "    def fit(self, X, y):\n",
    "        for name, transformer in self.steps[:-1]:\n",
    "            transformer.fit(X)\n",
    "            X = transformer.transform(X)\n",
    "        self.steps[-1][1].fit(X, y)\n",
    "        \n",
    "    def predict(self, X):\n",
    "        for name, transformer in self.steps[:-1]:\n",
    "            X = transformer.transform(X)\n",
    "        return self.steps[-1][1].predict(X)\n",
    "    \n",
    "    def score(self, X, y):\n",
    "        predictions = self.predict(X)\n",
    "        return r2_score(y, predictions)\n",
    "    \n",
    "class OneHotEncoder:\n",
    "    def fit(self, X):\n",
    "        assert len(X.columns) == 1\n",
    "        self.columns = sorted(set(X.iloc[:, 0]))\n",
    "    \n",
    "    def transform(self, X):\n",
    "        newX = pd.DataFrame()\n",
    "        for c in self.columns:\n",
    "            newX[c] = (X.iloc[:, 0] == c).astype(int)\n",
    "        print(newX)\n",
    "        return newX\n",
    "    \n",
    "class LinearRegression:\n",
    "    def fit(self, X, y):\n",
    "        print(X.shape, y.shape)\n",
    "        self.c = np.linalg.solve(X.T @ X, X.T @ y)\n",
    "        \n",
    "    def predict(self, X):\n",
    "        print(\"predict\")\n",
    "        return X @ self.c\n",
    "\n",
    "model = Pipeline([\n",
    "    (\"oh\", OneHotEncoder()),\n",
    "    (\"lr\", LinearRegression())\n",
    "])\n",
    "model.fit(train[[\"beach\"]], train[\"wave\"])\n",
    "model.score(test[[\"beach\"]], test[\"wave\"])"
   ]
  },
  {
   "cell_type": "code",
   "execution_count": null,
   "id": "14e652bf-64ce-4873-9379-dfb1c5a460ec",
   "metadata": {},
   "outputs": [],
   "source": []
  }
 ],
 "metadata": {
  "kernelspec": {
   "display_name": "Python 3 (ipykernel)",
   "language": "python",
   "name": "python3"
  },
  "language_info": {
   "codemirror_mode": {
    "name": "ipython",
    "version": 3
   },
   "file_extension": ".py",
   "mimetype": "text/x-python",
   "name": "python",
   "nbconvert_exporter": "python",
   "pygments_lexer": "ipython3",
   "version": "3.10.6"
  }
 },
 "nbformat": 4,
 "nbformat_minor": 5
}
