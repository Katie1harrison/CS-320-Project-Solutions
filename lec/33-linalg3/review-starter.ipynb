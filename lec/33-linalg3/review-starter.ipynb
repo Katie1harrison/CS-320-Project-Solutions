{
 "cells": [
  {
   "cell_type": "code",
   "execution_count": 4,
   "id": "3586bbb7-2d1c-4f9b-aee0-377fdae61d6c",
   "metadata": {},
   "outputs": [
    {
     "data": {
      "text/html": [
       "<div>\n",
       "<style scoped>\n",
       "    .dataframe tbody tr th:only-of-type {\n",
       "        vertical-align: middle;\n",
       "    }\n",
       "\n",
       "    .dataframe tbody tr th {\n",
       "        vertical-align: top;\n",
       "    }\n",
       "\n",
       "    .dataframe thead th {\n",
       "        text-align: right;\n",
       "    }\n",
       "</style>\n",
       "<table border=\"1\" class=\"dataframe\">\n",
       "  <thead>\n",
       "    <tr style=\"text-align: right;\">\n",
       "      <th></th>\n",
       "      <th>beach</th>\n",
       "      <th>wave</th>\n",
       "    </tr>\n",
       "  </thead>\n",
       "  <tbody>\n",
       "    <tr>\n",
       "      <th>4</th>\n",
       "      <td>B</td>\n",
       "      <td>2.3</td>\n",
       "    </tr>\n",
       "    <tr>\n",
       "      <th>0</th>\n",
       "      <td>A</td>\n",
       "      <td>1.5</td>\n",
       "    </tr>\n",
       "    <tr>\n",
       "      <th>1</th>\n",
       "      <td>A</td>\n",
       "      <td>1.4</td>\n",
       "    </tr>\n",
       "    <tr>\n",
       "      <th>5</th>\n",
       "      <td>B</td>\n",
       "      <td>2.3</td>\n",
       "    </tr>\n",
       "    <tr>\n",
       "      <th>10</th>\n",
       "      <td>C</td>\n",
       "      <td>3.5</td>\n",
       "    </tr>\n",
       "    <tr>\n",
       "      <th>2</th>\n",
       "      <td>A</td>\n",
       "      <td>1.5</td>\n",
       "    </tr>\n",
       "  </tbody>\n",
       "</table>\n",
       "</div>"
      ],
      "text/plain": [
       "   beach  wave\n",
       "4      B   2.3\n",
       "0      A   1.5\n",
       "1      A   1.4\n",
       "5      B   2.3\n",
       "10     C   3.5\n",
       "2      A   1.5"
      ]
     },
     "execution_count": 4,
     "metadata": {},
     "output_type": "execute_result"
    }
   ],
   "source": [
    "import numpy as np\n",
    "import pandas as pd\n",
    "from sklearn.model_selection import train_test_split\n",
    "from sklearn.pipeline import Pipeline\n",
    "from sklearn.preprocessing import OneHotEncoder\n",
    "from sklearn.linear_model import LinearRegression\n",
    "from sklearn.metrics import r2_score\n",
    "\n",
    "df = pd.DataFrame({\n",
    "    \"beach\": [\"A\",\"A\",\"A\",\"A\",  \"B\",\"B\",\"B\",\"B\",  \"C\",\"C\",\"C\",\"C\"],\n",
    "    \"wave\": [1.5,1.4,1.5,1.6,  2.3,2.3,2.6,2.5,  3.6,3.4,3.5,3.4]\n",
    "})\n",
    "train, test = train_test_split(df, test_size=0.5, random_state=320)\n",
    "train"
   ]
  },
  {
   "cell_type": "code",
   "execution_count": 5,
   "id": "7e763980-4229-4199-81d7-e70acae976f5",
   "metadata": {},
   "outputs": [
    {
     "data": {
      "text/plain": [
       "0.9390127692014484"
      ]
     },
     "execution_count": 5,
     "metadata": {},
     "output_type": "execute_result"
    }
   ],
   "source": [
    "model = Pipeline([\n",
    "    (\"oh\", OneHotEncoder()),\n",
    "    (\"lr\", LinearRegression())\n",
    "])\n",
    "model.fit(train[[\"beach\"]], train[\"wave\"])\n",
    "model.score(test[[\"beach\"]], test[\"wave\"])"
   ]
  },
  {
   "cell_type": "markdown",
   "id": "9ca7ad84-9129-4c85-84cb-5a8545860b03",
   "metadata": {},
   "source": [
    "# Can we build the above model from scratch?"
   ]
  },
  {
   "cell_type": "code",
   "execution_count": null,
   "id": "14e652bf-64ce-4873-9379-dfb1c5a460ec",
   "metadata": {},
   "outputs": [],
   "source": []
  }
 ],
 "metadata": {
  "kernelspec": {
   "display_name": "Python 3 (ipykernel)",
   "language": "python",
   "name": "python3"
  },
  "language_info": {
   "codemirror_mode": {
    "name": "ipython",
    "version": 3
   },
   "file_extension": ".py",
   "mimetype": "text/x-python",
   "name": "python",
   "nbconvert_exporter": "python",
   "pygments_lexer": "ipython3",
   "version": "3.10.6"
  }
 },
 "nbformat": 4,
 "nbformat_minor": 5
}
