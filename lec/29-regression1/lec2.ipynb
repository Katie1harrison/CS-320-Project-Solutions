{
 "cells": [
  {
   "cell_type": "code",
   "execution_count": 1,
   "id": "beffa731-a2a5-402f-9fc6-f4f272547f68",
   "metadata": {},
   "outputs": [],
   "source": [
    "import geopandas as gpd\n",
    "import os"
   ]
  },
  {
   "cell_type": "code",
   "execution_count": 2,
   "id": "554afc73-57c4-4047-90d8-360cb89ad76d",
   "metadata": {},
   "outputs": [
    {
     "name": "stdout",
     "output_type": "stream",
     "text": [
      "have a file\n"
     ]
    }
   ],
   "source": [
    "if os.path.exists(\"covid.geojson\"):\n",
    "    print(\"have a file\")\n",
    "    df = gpd.read_file(\"covid.geojson\")\n",
    "else:\n",
    "    print(\"download it\")\n",
    "    df = gpd.read_file(\"https://dhsgis.wi.gov/server/rest/services/DHS_COVID19/COVID19_WI_V2/MapServer/9/query?outFields=*&where=1%3D1&f=geojson\")\n",
    "    df.to_file(\"covid.geojson\")"
   ]
  },
  {
   "cell_type": "code",
   "execution_count": 3,
   "id": "39b98dc1-4db2-4572-bcad-9adc48e66aeb",
   "metadata": {},
   "outputs": [
    {
     "name": "stdout",
     "output_type": "stream",
     "text": [
      "Index(['RptDt', 'GEOID', 'GEOName', 'POS_CUM_CP', 'POS_NEW_CP',\n",
      "       'POS_7DAYAVG_CP', 'DTH_CUM_CP', 'DTH_NEW_CP', 'DTH_7DAYAVG_CP',\n",
      "       'DTH_OVER_30DAYS_CP', 'DTH_CP_Daily', 'TESTS_POS_CONF',\n",
      "       'TESTS_POS_CONF_NEW', 'TESTS_POS_CONF_7DAYAVG', 'PercentNAATPos',\n",
      "       'TESTS_CUM', 'TESTS_NEW', 'TESTS_7DAYAVG', 'POS_CUM_CONF',\n",
      "       'POS_NEW_CONF', 'POS_7DAYAVG_CONF', 'POS_CUM_PROB', 'POS_NEW_PROB',\n",
      "       'POS_7DAYAVG_PROB', 'DTH_CUM_CONF', 'DTH_NEW_CONF', 'DTH_7DAYAVG_CONF',\n",
      "       'DTH_CONF_Daily', 'DTH_CUM_PROB', 'DTH_NEW_PROB', 'DTH_7DAYAVG_PROB',\n",
      "       'DTH_PROB_Daily', 'POS_MALE_CP', 'POS_FEM_CP', 'POS_OTH_CP',\n",
      "       'POS_0_9_CP', 'POS_10_19_CP', 'POS_20_29_CP', 'POS_30_39_CP',\n",
      "       'POS_40_49_CP', 'POS_50_59_CP', 'POS_60_69_CP', 'POS_70_79_CP',\n",
      "       'POS_80_89_CP', 'POS_90_CP', 'DTHS_FEM_CP', 'DTHS_MALE_CP',\n",
      "       'DTHS_OTH_CP', 'DTHS_0_9_CP', 'DTHS_10_19_CP', 'DTHS_20_29_CP',\n",
      "       'DTHS_30_39_CP', 'DTHS_40_49_CP', 'DTHS_50_59_CP', 'DTHS_60_69_CP',\n",
      "       'DTHS_70_79_CP', 'DTHS_80_89_CP', 'DTHS_90_CP', 'POS_AIAN_CP',\n",
      "       'POS_ASN_CP', 'POS_BLK_CP', 'POS_WHT_CP', 'POS_MLTOTH_CP', 'POS_UNK_CP',\n",
      "       'POS_E_HSP_CP', 'POS_E_NHSP_CP', 'POS_E_UNK_CP', 'DTH_AIAN_CP',\n",
      "       'DTH_ASN_CP', 'DTH_BLK_CP', 'DTH_WHT_CP', 'DTH_MLTOTH_CP', 'DTH_UNK_CP',\n",
      "       'DTH_E_HSP_CP', 'DTH_E_NHSP_CP', 'DTH_E_UNK_CP', 'POS_HC_Y_CP',\n",
      "       'POS_HC_N_CP', 'POS_HC_UNK_CP', 'HOSP_YES_CP', 'HOSP_NO_CP',\n",
      "       'HOSP_UNK_CP', 'Date', 'POP', 'POP_MOE', 'OBJECTID', 'GEO',\n",
      "       'Shape.STArea()', 'Shape.STLength()', 'geometry'],\n",
      "      dtype='object')\n"
     ]
    },
    {
     "data": {
      "text/html": [
       "<div>\n",
       "<style scoped>\n",
       "    .dataframe tbody tr th:only-of-type {\n",
       "        vertical-align: middle;\n",
       "    }\n",
       "\n",
       "    .dataframe tbody tr th {\n",
       "        vertical-align: top;\n",
       "    }\n",
       "\n",
       "    .dataframe thead th {\n",
       "        text-align: right;\n",
       "    }\n",
       "</style>\n",
       "<table border=\"1\" class=\"dataframe\">\n",
       "  <thead>\n",
       "    <tr style=\"text-align: right;\">\n",
       "      <th></th>\n",
       "      <th>RptDt</th>\n",
       "      <th>GEOID</th>\n",
       "      <th>GEOName</th>\n",
       "      <th>POS_CUM_CP</th>\n",
       "      <th>POS_NEW_CP</th>\n",
       "      <th>POS_7DAYAVG_CP</th>\n",
       "      <th>DTH_CUM_CP</th>\n",
       "      <th>DTH_NEW_CP</th>\n",
       "      <th>DTH_7DAYAVG_CP</th>\n",
       "      <th>DTH_OVER_30DAYS_CP</th>\n",
       "      <th>...</th>\n",
       "      <th>HOSP_NO_CP</th>\n",
       "      <th>HOSP_UNK_CP</th>\n",
       "      <th>Date</th>\n",
       "      <th>POP</th>\n",
       "      <th>POP_MOE</th>\n",
       "      <th>OBJECTID</th>\n",
       "      <th>GEO</th>\n",
       "      <th>Shape.STArea()</th>\n",
       "      <th>Shape.STLength()</th>\n",
       "      <th>geometry</th>\n",
       "    </tr>\n",
       "  </thead>\n",
       "  <tbody>\n",
       "    <tr>\n",
       "      <th>0</th>\n",
       "      <td>1668024000000</td>\n",
       "      <td>55001950100</td>\n",
       "      <td>None</td>\n",
       "      <td>978</td>\n",
       "      <td>1</td>\n",
       "      <td>0.57</td>\n",
       "      <td>13</td>\n",
       "      <td>0</td>\n",
       "      <td>0.0</td>\n",
       "      <td>0</td>\n",
       "      <td>...</td>\n",
       "      <td>573</td>\n",
       "      <td>357</td>\n",
       "      <td>1667887200000</td>\n",
       "      <td>2870</td>\n",
       "      <td>66.0</td>\n",
       "      <td>1156</td>\n",
       "      <td>Census tract</td>\n",
       "      <td>4.894706e+08</td>\n",
       "      <td>108089.745033</td>\n",
       "      <td>POLYGON ((-89.72475 44.24769, -89.72492 44.247...</td>\n",
       "    </tr>\n",
       "    <tr>\n",
       "      <th>1</th>\n",
       "      <td>1668024000000</td>\n",
       "      <td>55001950201</td>\n",
       "      <td>None</td>\n",
       "      <td>342</td>\n",
       "      <td>0</td>\n",
       "      <td>0.00</td>\n",
       "      <td>5</td>\n",
       "      <td>0</td>\n",
       "      <td>0.0</td>\n",
       "      <td>0</td>\n",
       "      <td>...</td>\n",
       "      <td>152</td>\n",
       "      <td>167</td>\n",
       "      <td>1667887200000</td>\n",
       "      <td>1244</td>\n",
       "      <td>96.0</td>\n",
       "      <td>1157</td>\n",
       "      <td>Census tract</td>\n",
       "      <td>2.277343e+08</td>\n",
       "      <td>97033.719846</td>\n",
       "      <td>POLYGON ((-89.73892 43.98186, -89.73925 43.982...</td>\n",
       "    </tr>\n",
       "    <tr>\n",
       "      <th>2</th>\n",
       "      <td>1668024000000</td>\n",
       "      <td>55001950202</td>\n",
       "      <td>None</td>\n",
       "      <td>628</td>\n",
       "      <td>2</td>\n",
       "      <td>0.86</td>\n",
       "      <td>7</td>\n",
       "      <td>0</td>\n",
       "      <td>0.0</td>\n",
       "      <td>0</td>\n",
       "      <td>...</td>\n",
       "      <td>352</td>\n",
       "      <td>257</td>\n",
       "      <td>1667887200000</td>\n",
       "      <td>2599</td>\n",
       "      <td>146.0</td>\n",
       "      <td>1158</td>\n",
       "      <td>Census tract</td>\n",
       "      <td>1.004937e+09</td>\n",
       "      <td>162456.681081</td>\n",
       "      <td>POLYGON ((-89.90890 44.17627, -89.90907 44.176...</td>\n",
       "    </tr>\n",
       "    <tr>\n",
       "      <th>3</th>\n",
       "      <td>1668024000000</td>\n",
       "      <td>55001950400</td>\n",
       "      <td>None</td>\n",
       "      <td>1349</td>\n",
       "      <td>1</td>\n",
       "      <td>0.57</td>\n",
       "      <td>25</td>\n",
       "      <td>0</td>\n",
       "      <td>0.0</td>\n",
       "      <td>0</td>\n",
       "      <td>...</td>\n",
       "      <td>638</td>\n",
       "      <td>635</td>\n",
       "      <td>1667887200000</td>\n",
       "      <td>4533</td>\n",
       "      <td>183.0</td>\n",
       "      <td>1159</td>\n",
       "      <td>Census tract</td>\n",
       "      <td>4.567996e+08</td>\n",
       "      <td>121861.166562</td>\n",
       "      <td>POLYGON ((-89.73892 43.98186, -89.75025 43.981...</td>\n",
       "    </tr>\n",
       "    <tr>\n",
       "      <th>4</th>\n",
       "      <td>1668024000000</td>\n",
       "      <td>55001950501</td>\n",
       "      <td>None</td>\n",
       "      <td>386</td>\n",
       "      <td>0</td>\n",
       "      <td>0.00</td>\n",
       "      <td>0</td>\n",
       "      <td>0</td>\n",
       "      <td>0.0</td>\n",
       "      <td>0</td>\n",
       "      <td>...</td>\n",
       "      <td>153</td>\n",
       "      <td>216</td>\n",
       "      <td>1667887200000</td>\n",
       "      <td>1603</td>\n",
       "      <td>133.0</td>\n",
       "      <td>1160</td>\n",
       "      <td>Census tract</td>\n",
       "      <td>2.575669e+08</td>\n",
       "      <td>77494.089221</td>\n",
       "      <td>POLYGON ((-89.93773 43.96630, -89.93779 43.966...</td>\n",
       "    </tr>\n",
       "  </tbody>\n",
       "</table>\n",
       "<p>5 rows × 90 columns</p>\n",
       "</div>"
      ],
      "text/plain": [
       "           RptDt        GEOID GEOName  POS_CUM_CP  POS_NEW_CP  POS_7DAYAVG_CP  \\\n",
       "0  1668024000000  55001950100    None         978           1            0.57   \n",
       "1  1668024000000  55001950201    None         342           0            0.00   \n",
       "2  1668024000000  55001950202    None         628           2            0.86   \n",
       "3  1668024000000  55001950400    None        1349           1            0.57   \n",
       "4  1668024000000  55001950501    None         386           0            0.00   \n",
       "\n",
       "   DTH_CUM_CP  DTH_NEW_CP  DTH_7DAYAVG_CP  DTH_OVER_30DAYS_CP  ...  \\\n",
       "0          13           0             0.0                   0  ...   \n",
       "1           5           0             0.0                   0  ...   \n",
       "2           7           0             0.0                   0  ...   \n",
       "3          25           0             0.0                   0  ...   \n",
       "4           0           0             0.0                   0  ...   \n",
       "\n",
       "   HOSP_NO_CP HOSP_UNK_CP           Date   POP POP_MOE  OBJECTID  \\\n",
       "0         573         357  1667887200000  2870    66.0      1156   \n",
       "1         152         167  1667887200000  1244    96.0      1157   \n",
       "2         352         257  1667887200000  2599   146.0      1158   \n",
       "3         638         635  1667887200000  4533   183.0      1159   \n",
       "4         153         216  1667887200000  1603   133.0      1160   \n",
       "\n",
       "            GEO  Shape.STArea()  Shape.STLength()  \\\n",
       "0  Census tract    4.894706e+08     108089.745033   \n",
       "1  Census tract    2.277343e+08      97033.719846   \n",
       "2  Census tract    1.004937e+09     162456.681081   \n",
       "3  Census tract    4.567996e+08     121861.166562   \n",
       "4  Census tract    2.575669e+08      77494.089221   \n",
       "\n",
       "                                            geometry  \n",
       "0  POLYGON ((-89.72475 44.24769, -89.72492 44.247...  \n",
       "1  POLYGON ((-89.73892 43.98186, -89.73925 43.982...  \n",
       "2  POLYGON ((-89.90890 44.17627, -89.90907 44.176...  \n",
       "3  POLYGON ((-89.73892 43.98186, -89.75025 43.981...  \n",
       "4  POLYGON ((-89.93773 43.96630, -89.93779 43.966...  \n",
       "\n",
       "[5 rows x 90 columns]"
      ]
     },
     "execution_count": 3,
     "metadata": {},
     "output_type": "execute_result"
    }
   ],
   "source": [
    "print(df.columns)\n",
    "df.head()"
   ]
  },
  {
   "cell_type": "code",
   "execution_count": 4,
   "id": "86d07535-6c34-4fc5-8aed-5bb8a66c1691",
   "metadata": {},
   "outputs": [
    {
     "data": {
      "text/plain": [
       "<AxesSubplot:>"
      ]
     },
     "execution_count": 4,
     "metadata": {},
     "output_type": "execute_result"
    },
    {
     "data": {
      "image/png": "[encoded data removed]",
      "text/plain": [
       "<Figure size 640x480 with 1 Axes>"
      ]
     },
     "metadata": {},
     "output_type": "display_data"
    }
   ],
   "source": [
    "df.plot()"
   ]
  },
  {
   "cell_type": "code",
   "execution_count": 5,
   "id": "fa25a1c8-d3ca-49d0-9830-58a40473a5cf",
   "metadata": {},
   "outputs": [],
   "source": [
    "# How can we get a clean dataset of COVID deaths in WI?"
   ]
  },
  {
   "cell_type": "code",
   "execution_count": 6,
   "id": "727abdc1-7137-44bd-966c-dd91bbe83403",
   "metadata": {},
   "outputs": [],
   "source": [
    "# TODO: communicate in final results what percent of values were guessed (imputed)\n",
    "df = df.replace(-999, 2) # 2 is between 0-4"
   ]
  },
  {
   "cell_type": "code",
   "execution_count": 7,
   "id": "63a6b97e-1e0a-4295-a6b7-3c5375486ec5",
   "metadata": {},
   "outputs": [
    {
     "data": {
      "text/plain": [
       "<AxesSubplot:xlabel='POP', ylabel='DTH_CUM_CP'>"
      ]
     },
     "execution_count": 7,
     "metadata": {},
     "output_type": "execute_result"
    },
    {
     "data": {
      "image/png": "[encoded data removed]",
      "text/plain": [
       "<Figure size 640x480 with 1 Axes>"
      ]
     },
     "metadata": {},
     "output_type": "display_data"
    }
   ],
   "source": [
    "df.plot.scatter(x=\"POP\", y=\"DTH_CUM_CP\")"
   ]
  },
  {
   "cell_type": "code",
   "execution_count": 8,
   "id": "2bd5af9e-68bb-48cb-a0ea-0192ddc2964e",
   "metadata": {},
   "outputs": [
    {
     "data": {
      "text/html": [
       "<div>\n",
       "<style scoped>\n",
       "    .dataframe tbody tr th:only-of-type {\n",
       "        vertical-align: middle;\n",
       "    }\n",
       "\n",
       "    .dataframe tbody tr th {\n",
       "        vertical-align: top;\n",
       "    }\n",
       "\n",
       "    .dataframe thead th {\n",
       "        text-align: right;\n",
       "    }\n",
       "</style>\n",
       "<table border=\"1\" class=\"dataframe\">\n",
       "  <thead>\n",
       "    <tr style=\"text-align: right;\">\n",
       "      <th></th>\n",
       "      <th>RptDt</th>\n",
       "      <th>GEOID</th>\n",
       "      <th>GEOName</th>\n",
       "      <th>POS_CUM_CP</th>\n",
       "      <th>POS_NEW_CP</th>\n",
       "      <th>POS_7DAYAVG_CP</th>\n",
       "      <th>DTH_CUM_CP</th>\n",
       "      <th>DTH_NEW_CP</th>\n",
       "      <th>DTH_7DAYAVG_CP</th>\n",
       "      <th>DTH_OVER_30DAYS_CP</th>\n",
       "      <th>...</th>\n",
       "      <th>HOSP_NO_CP</th>\n",
       "      <th>HOSP_UNK_CP</th>\n",
       "      <th>Date</th>\n",
       "      <th>POP</th>\n",
       "      <th>POP_MOE</th>\n",
       "      <th>OBJECTID</th>\n",
       "      <th>GEO</th>\n",
       "      <th>Shape.STArea()</th>\n",
       "      <th>Shape.STLength()</th>\n",
       "      <th>geometry</th>\n",
       "    </tr>\n",
       "  </thead>\n",
       "  <tbody>\n",
       "    <tr>\n",
       "      <th>1392</th>\n",
       "      <td>1668024000000</td>\n",
       "      <td>TRACT N/A</td>\n",
       "      <td>None</td>\n",
       "      <td>48333</td>\n",
       "      <td>40</td>\n",
       "      <td>33.71</td>\n",
       "      <td>438</td>\n",
       "      <td>0</td>\n",
       "      <td>0.0</td>\n",
       "      <td>0</td>\n",
       "      <td>...</td>\n",
       "      <td>21173</td>\n",
       "      <td>25324</td>\n",
       "      <td>1667887200000</td>\n",
       "      <td>0</td>\n",
       "      <td>NaN</td>\n",
       "      <td>2235</td>\n",
       "      <td>Census tract</td>\n",
       "      <td>466.180086</td>\n",
       "      <td>80.071546</td>\n",
       "      <td>POLYGON ((-87.04159 44.13490, -87.04161 44.134...</td>\n",
       "    </tr>\n",
       "  </tbody>\n",
       "</table>\n",
       "<p>1 rows × 90 columns</p>\n",
       "</div>"
      ],
      "text/plain": [
       "              RptDt      GEOID GEOName  POS_CUM_CP  POS_NEW_CP  \\\n",
       "1392  1668024000000  TRACT N/A    None       48333          40   \n",
       "\n",
       "      POS_7DAYAVG_CP  DTH_CUM_CP  DTH_NEW_CP  DTH_7DAYAVG_CP  \\\n",
       "1392           33.71         438           0             0.0   \n",
       "\n",
       "      DTH_OVER_30DAYS_CP  ...  HOSP_NO_CP HOSP_UNK_CP           Date POP  \\\n",
       "1392                   0  ...       21173       25324  1667887200000   0   \n",
       "\n",
       "     POP_MOE  OBJECTID           GEO  Shape.STArea()  Shape.STLength()  \\\n",
       "1392     NaN      2235  Census tract      466.180086         80.071546   \n",
       "\n",
       "                                               geometry  \n",
       "1392  POLYGON ((-87.04159 44.13490, -87.04161 44.134...  \n",
       "\n",
       "[1 rows x 90 columns]"
      ]
     },
     "execution_count": 8,
     "metadata": {},
     "output_type": "execute_result"
    }
   ],
   "source": [
    "df[df[\"DTH_CUM_CP\"] > 300]"
   ]
  },
  {
   "cell_type": "code",
   "execution_count": 9,
   "id": "71158d7f-45eb-46fd-850a-421004839443",
   "metadata": {},
   "outputs": [
    {
     "data": {
      "text/plain": [
       "True     1392\n",
       "False       1\n",
       "Name: GEOID, dtype: int64"
      ]
     },
     "execution_count": 9,
     "metadata": {},
     "output_type": "execute_result"
    }
   ],
   "source": [
    "df[\"GEOID\"].str.fullmatch(r\"\\d+\").value_counts()"
   ]
  },
  {
   "cell_type": "code",
   "execution_count": 10,
   "id": "303e98bf-3d1a-4c91-bc3f-887660d02474",
   "metadata": {},
   "outputs": [
    {
     "data": {
      "text/plain": [
       "<AxesSubplot:xlabel='POP', ylabel='DTH_CUM_CP'>"
      ]
     },
     "execution_count": 10,
     "metadata": {},
     "output_type": "execute_result"
    },
    {
     "data": {
      "image/png": "[encoded data removed]",
      "text/plain": [
       "<Figure size 640x480 with 1 Axes>"
      ]
     },
     "metadata": {},
     "output_type": "display_data"
    }
   ],
   "source": [
    "df = df[df[\"GEOID\"].str.fullmatch(r\"\\d+\")]\n",
    "df.plot.scatter(x=\"POP\", y=\"DTH_CUM_CP\")"
   ]
  },
  {
   "cell_type": "code",
   "execution_count": 11,
   "id": "6ced6a5d-4ea2-491f-9499-cc834ec0d6d1",
   "metadata": {},
   "outputs": [],
   "source": [
    "# How can we train/fit models to known data to predict unknowns?\n",
    "# Population => Deaths, Cases => Deaths, Cases by Age => Deaths"
   ]
  },
  {
   "cell_type": "code",
   "execution_count": 12,
   "id": "ea08136a-5509-474f-afdb-9b978fa71c60",
   "metadata": {},
   "outputs": [],
   "source": [
    "# model = ????\n",
    "# model.fit(X, y)\n",
    "# y = model.predict(X)"
   ]
  },
  {
   "cell_type": "code",
   "execution_count": 13,
   "id": "1b62cdc4-7ba1-4a4d-9d52-e6b8ee8f0b0c",
   "metadata": {},
   "outputs": [
    {
     "data": {
      "text/html": [
       "<div>\n",
       "<style scoped>\n",
       "    .dataframe tbody tr th:only-of-type {\n",
       "        vertical-align: middle;\n",
       "    }\n",
       "\n",
       "    .dataframe tbody tr th {\n",
       "        vertical-align: top;\n",
       "    }\n",
       "\n",
       "    .dataframe thead th {\n",
       "        text-align: right;\n",
       "    }\n",
       "</style>\n",
       "<table border=\"1\" class=\"dataframe\">\n",
       "  <thead>\n",
       "    <tr style=\"text-align: right;\">\n",
       "      <th></th>\n",
       "      <th>POP</th>\n",
       "    </tr>\n",
       "  </thead>\n",
       "  <tbody>\n",
       "    <tr>\n",
       "      <th>0</th>\n",
       "      <td>2870</td>\n",
       "    </tr>\n",
       "    <tr>\n",
       "      <th>1</th>\n",
       "      <td>1244</td>\n",
       "    </tr>\n",
       "    <tr>\n",
       "      <th>2</th>\n",
       "      <td>2599</td>\n",
       "    </tr>\n",
       "    <tr>\n",
       "      <th>3</th>\n",
       "      <td>4533</td>\n",
       "    </tr>\n",
       "    <tr>\n",
       "      <th>4</th>\n",
       "      <td>1603</td>\n",
       "    </tr>\n",
       "  </tbody>\n",
       "</table>\n",
       "</div>"
      ],
      "text/plain": [
       "    POP\n",
       "0  2870\n",
       "1  1244\n",
       "2  2599\n",
       "3  4533\n",
       "4  1603"
      ]
     },
     "execution_count": 13,
     "metadata": {},
     "output_type": "execute_result"
    }
   ],
   "source": [
    "df[[\"POP\"]].head()"
   ]
  },
  {
   "cell_type": "code",
   "execution_count": 14,
   "id": "ddeb54ae-acc0-4c64-aef4-1df0ddcbcc52",
   "metadata": {},
   "outputs": [
    {
     "data": {
      "text/plain": [
       "0    13\n",
       "1     5\n",
       "2     7\n",
       "3    25\n",
       "4     0\n",
       "Name: DTH_CUM_CP, dtype: int64"
      ]
     },
     "execution_count": 14,
     "metadata": {},
     "output_type": "execute_result"
    }
   ],
   "source": [
    "df[\"DTH_CUM_CP\"].head()"
   ]
  },
  {
   "cell_type": "code",
   "execution_count": 15,
   "id": "5833f821-dedd-417b-bc56-c4104318f529",
   "metadata": {},
   "outputs": [],
   "source": [
    "from sklearn.linear_model import LinearRegression\n",
    "\n",
    "model = LinearRegression()\n",
    "model.fit(df[[\"POP\"]], df[\"DTH_CUM_CP\"])\n",
    "y = model.predict(df[[\"POP\"]]) # TODO: use x values for new places"
   ]
  },
  {
   "cell_type": "code",
   "execution_count": 16,
   "id": "29f42c5f-3396-4e26-b0c4-70805932383b",
   "metadata": {},
   "outputs": [
    {
     "data": {
      "text/html": [
       "<div>\n",
       "<style scoped>\n",
       "    .dataframe tbody tr th:only-of-type {\n",
       "        vertical-align: middle;\n",
       "    }\n",
       "\n",
       "    .dataframe tbody tr th {\n",
       "        vertical-align: top;\n",
       "    }\n",
       "\n",
       "    .dataframe thead th {\n",
       "        text-align: right;\n",
       "    }\n",
       "</style>\n",
       "<table border=\"1\" class=\"dataframe\">\n",
       "  <thead>\n",
       "    <tr style=\"text-align: right;\">\n",
       "      <th></th>\n",
       "      <th>POP</th>\n",
       "      <th>predicted deaths</th>\n",
       "    </tr>\n",
       "  </thead>\n",
       "  <tbody>\n",
       "    <tr>\n",
       "      <th>0</th>\n",
       "      <td>1000</td>\n",
       "      <td>3.794165</td>\n",
       "    </tr>\n",
       "    <tr>\n",
       "      <th>1</th>\n",
       "      <td>2000</td>\n",
       "      <td>6.026414</td>\n",
       "    </tr>\n",
       "    <tr>\n",
       "      <th>2</th>\n",
       "      <td>3000</td>\n",
       "      <td>8.258662</td>\n",
       "    </tr>\n",
       "  </tbody>\n",
       "</table>\n",
       "</div>"
      ],
      "text/plain": [
       "    POP  predicted deaths\n",
       "0  1000          3.794165\n",
       "1  2000          6.026414\n",
       "2  3000          8.258662"
      ]
     },
     "execution_count": 16,
     "metadata": {},
     "output_type": "execute_result"
    }
   ],
   "source": [
    "# hypothetical census tracts -- what is the predicted death count?\n",
    "import pandas as pd\n",
    "predict_df = pd.DataFrame({\"POP\": [1000,2000,3000]})\n",
    "predict_df[\"predicted deaths\"] = model.predict(predict_df)\n",
    "predict_df"
   ]
  },
  {
   "cell_type": "code",
   "execution_count": 17,
   "id": "583ba37d-aca8-44ee-9eaf-8ab622fa536a",
   "metadata": {},
   "outputs": [
    {
     "data": {
      "text/plain": [
       "<AxesSubplot:xlabel='POP', ylabel='DTH_CUM_CP'>"
      ]
     },
     "execution_count": 17,
     "metadata": {},
     "output_type": "execute_result"
    },
    {
     "data": {
      "image/png": "[encoded data removed]",
      "text/plain": [
       "<Figure size 640x480 with 1 Axes>"
      ]
     },
     "metadata": {},
     "output_type": "display_data"
    }
   ],
   "source": [
    "# How can we visualize model predictions?\n",
    "predict_df = pd.DataFrame({\"POP\": range(0, 20000, 1000)})\n",
    "predict_df[\"predicted deaths\"] = model.predict(predict_df)\n",
    "ax = predict_df.plot.line(x=\"POP\", y=\"predicted deaths\", color=\"r\")\n",
    "df.plot.scatter(x=\"POP\", y=\"DTH_CUM_CP\", ax=ax, color=\"k\", alpha=0.05)"
   ]
  },
  {
   "cell_type": "code",
   "execution_count": 18,
   "id": "12c1ec56-3cf7-4a5e-b8ea-dfad9a504a19",
   "metadata": {},
   "outputs": [],
   "source": [
    "# How can we get a formula for the relationship?"
   ]
  },
  {
   "cell_type": "code",
   "execution_count": 19,
   "id": "d6aa6c08-82db-4855-a56a-043792774b4f",
   "metadata": {},
   "outputs": [
    {
     "data": {
      "text/plain": [
       "array([0.00223225])"
      ]
     },
     "execution_count": 19,
     "metadata": {},
     "output_type": "execute_result"
    }
   ],
   "source": [
    "model.coef_"
   ]
  },
  {
   "cell_type": "code",
   "execution_count": 20,
   "id": "c61e745e-edac-4101-8c4c-5c32dfb1c069",
   "metadata": {},
   "outputs": [
    {
     "data": {
      "text/plain": [
       "0.002232248762253651"
      ]
     },
     "execution_count": 20,
     "metadata": {},
     "output_type": "execute_result"
    }
   ],
   "source": [
    "model.coef_[0] # slope of the line"
   ]
  },
  {
   "cell_type": "code",
   "execution_count": 21,
   "id": "c5c6d3ae-5cb0-4f6d-a5fe-7a1a737b7a78",
   "metadata": {},
   "outputs": [
    {
     "data": {
      "text/plain": [
       "1.561916052935402"
      ]
     },
     "execution_count": 21,
     "metadata": {},
     "output_type": "execute_result"
    }
   ],
   "source": [
    "model.intercept_"
   ]
  },
  {
   "cell_type": "code",
   "execution_count": 22,
   "id": "b939c69c-c63d-4da7-aae9-af1a72c4682e",
   "metadata": {},
   "outputs": [
    {
     "name": "stdout",
     "output_type": "stream",
     "text": [
      "deaths ~= 0.0022 * population + 1.5619\n"
     ]
    }
   ],
   "source": [
    "print(f\"deaths ~= {round(model.coef_[0], 4)} * population + {round(model.intercept_, 4)}\")"
   ]
  },
  {
   "cell_type": "code",
   "execution_count": 23,
   "id": "88c46d28-b6fe-425d-be1e-a15e553498e6",
   "metadata": {},
   "outputs": [],
   "source": [
    "# How well does our model fit the data?\n",
    "# R^2 (\"r squared\"), explained variance"
   ]
  },
  {
   "cell_type": "code",
   "execution_count": 24,
   "id": "8fa56e5a-6062-4572-a22f-08c707a4ebf0",
   "metadata": {},
   "outputs": [
    {
     "data": {
      "text/plain": [
       "73.5585656354066"
      ]
     },
     "execution_count": 24,
     "metadata": {},
     "output_type": "execute_result"
    }
   ],
   "source": [
    "before = df[\"DTH_CUM_CP\"].var()\n",
    "before"
   ]
  },
  {
   "cell_type": "code",
   "execution_count": 25,
   "id": "504f98d5-1e57-4029-bc83-70d19aef7995",
   "metadata": {},
   "outputs": [],
   "source": [
    "predictions = model.predict(df[[\"POP\"]])"
   ]
  },
  {
   "cell_type": "code",
   "execution_count": 26,
   "id": "97bafd54-339e-463b-9044-cd70bc15c945",
   "metadata": {},
   "outputs": [
    {
     "data": {
      "text/plain": [
       "58.36158186387133"
      ]
     },
     "execution_count": 26,
     "metadata": {},
     "output_type": "execute_result"
    }
   ],
   "source": [
    "after1 = (df[\"DTH_CUM_CP\"] - predictions).var()   # explained_variance_score (sklearn)\n",
    "after1"
   ]
  },
  {
   "cell_type": "code",
   "execution_count": 27,
   "id": "c40fc774-10f5-41b6-ba55-70fecf6d79c4",
   "metadata": {},
   "outputs": [
    {
     "data": {
      "text/plain": [
       "58.31965544011855"
      ]
     },
     "execution_count": 27,
     "metadata": {},
     "output_type": "execute_result"
    }
   ],
   "source": [
    "after2 = ((df[\"DTH_CUM_CP\"] - predictions) ** 2).mean() # r2_score (sklearn)\n",
    "after2"
   ]
  },
  {
   "cell_type": "code",
   "execution_count": 28,
   "id": "71a62e5e-8eb7-4ee4-b1c4-040f23e8639d",
   "metadata": {},
   "outputs": [
    {
     "data": {
      "text/plain": [
       "0.20659706507681502"
      ]
     },
     "execution_count": 28,
     "metadata": {},
     "output_type": "execute_result"
    }
   ],
   "source": [
    "improvement = before - after1\n",
    "improvement / before"
   ]
  },
  {
   "cell_type": "code",
   "execution_count": 29,
   "id": "77d61f19-4c17-446f-a4dd-a7c3d3cabc82",
   "metadata": {},
   "outputs": [
    {
     "data": {
      "text/plain": [
       "0.2071670384496046"
      ]
     },
     "execution_count": 29,
     "metadata": {},
     "output_type": "execute_result"
    }
   ],
   "source": [
    "improvement = before - after2\n",
    "improvement / before"
   ]
  },
  {
   "cell_type": "code",
   "execution_count": 30,
   "id": "16cccf43-497b-4658-9f50-88d8bf6f236a",
   "metadata": {},
   "outputs": [
    {
     "data": {
      "text/plain": [
       "0.20659706507681497"
      ]
     },
     "execution_count": 30,
     "metadata": {},
     "output_type": "execute_result"
    }
   ],
   "source": [
    "# the R^2 score\n",
    "model.score(df[[\"POP\"]], df[\"DTH_CUM_CP\"])    # it will .predict() y based on X, compare to real y"
   ]
  },
  {
   "cell_type": "code",
   "execution_count": 31,
   "id": "a774a759-2f91-476d-b49b-898584fc7c4f",
   "metadata": {},
   "outputs": [
    {
     "data": {
      "text/plain": [
       "696"
      ]
     },
     "execution_count": 31,
     "metadata": {},
     "output_type": "execute_result"
    }
   ],
   "source": [
    "# Did our model learn, or just memorize (that is, \"overfit\")?\n",
    "len(df) // 2"
   ]
  },
  {
   "cell_type": "code",
   "execution_count": 32,
   "id": "9a01e3a4-e8dc-4319-9ac1-70eeea09fb0a",
   "metadata": {},
   "outputs": [],
   "source": [
    "train = df.iloc[:len(df)//2]  # the first half of the rows"
   ]
  },
  {
   "cell_type": "code",
   "execution_count": 33,
   "id": "8e3d9137-ca83-4da2-aeb3-d03ed40b4dbf",
   "metadata": {},
   "outputs": [],
   "source": [
    "test = df.iloc[len(df)//2:]  # the second half of the rows"
   ]
  },
  {
   "cell_type": "code",
   "execution_count": 34,
   "id": "6b2eefe1-b1cd-4b98-ba21-fdaedf046b67",
   "metadata": {},
   "outputs": [
    {
     "data": {
      "text/plain": [
       "(696, 696)"
      ]
     },
     "execution_count": 34,
     "metadata": {},
     "output_type": "execute_result"
    }
   ],
   "source": [
    "train, test = df.iloc[:len(df)//2], df.iloc[len(df)//2:]\n",
    "len(train), len(test)"
   ]
  },
  {
   "cell_type": "code",
   "execution_count": 35,
   "id": "131b08d7-66c4-49a4-b173-5832ed053053",
   "metadata": {},
   "outputs": [
    {
     "data": {
      "text/plain": [
       "(1044, 348)"
      ]
     },
     "execution_count": 35,
     "metadata": {},
     "output_type": "execute_result"
    }
   ],
   "source": [
    "from sklearn.model_selection import train_test_split # shuffle, then split\n",
    "\n",
    "train, test = train_test_split(df, test_size=0.25)\n",
    "len(train), len(test)"
   ]
  },
  {
   "cell_type": "code",
   "execution_count": 36,
   "id": "8574193f-78de-4faf-9b38-54ac80c171ad",
   "metadata": {},
   "outputs": [
    {
     "data": {
      "text/plain": [
       "0.26323842779472495"
      ]
     },
     "execution_count": 36,
     "metadata": {},
     "output_type": "execute_result"
    }
   ],
   "source": [
    "model = LinearRegression()\n",
    "xcols = [\"POP\"]\n",
    "ycol = \"DTH_CUM_CP\"\n",
    "\n",
    "model.fit(train[xcols], train[ycol])\n",
    "#y = model.predict(test[xcols])\n",
    "model.score(test[xcols], test[ycol])"
   ]
  },
  {
   "cell_type": "code",
   "execution_count": 37,
   "id": "d76bd869-b057-4a7c-8d2d-e3d13cb5250a",
   "metadata": {},
   "outputs": [],
   "source": [
    "# How can we minimize noise due to random train/test splits?\n",
    "from sklearn.model_selection import cross_val_score"
   ]
  },
  {
   "cell_type": "code",
   "execution_count": 38,
   "id": "1743c872-79b2-481d-95b1-e95000bbf5a7",
   "metadata": {},
   "outputs": [
    {
     "data": {
      "text/plain": [
       "array([0.15167071, 0.20519442, 0.21054739, 0.22587233, 0.10809512])"
      ]
     },
     "execution_count": 38,
     "metadata": {},
     "output_type": "execute_result"
    }
   ],
   "source": [
    "# do many different train/test splits of the values, fitting\n",
    "# and scoring the model across each combination\n",
    "model = LinearRegression()\n",
    "scores = cross_val_score(model, train[xcols], train[ycol])\n",
    "scores"
   ]
  },
  {
   "cell_type": "code",
   "execution_count": 39,
   "id": "88760de3-55f8-4da5-946d-c96ae542e310",
   "metadata": {},
   "outputs": [
    {
     "data": {
      "text/plain": [
       "0.1802759933114196"
      ]
     },
     "execution_count": 39,
     "metadata": {},
     "output_type": "execute_result"
    }
   ],
   "source": [
    "scores.mean()"
   ]
  },
  {
   "cell_type": "code",
   "execution_count": 40,
   "id": "f2a28407-fc5a-4549-a81d-c5a00b3d6582",
   "metadata": {},
   "outputs": [],
   "source": [
    "# How can we compare models?\n",
    "# model 1: POP => DEATHS\n",
    "# model 2: CASES => DEATHS"
   ]
  },
  {
   "cell_type": "code",
   "execution_count": 41,
   "id": "ee37daa5-f168-4211-bec7-ed4d1e2723a3",
   "metadata": {},
   "outputs": [],
   "source": [
    "model1 = LinearRegression()\n",
    "model2 = LinearRegression()\n",
    "model1_scores = cross_val_score(model1, train[[\"POP\"]], train[ycol])\n",
    "model2_scores = cross_val_score(model2, train[[\"POS_CUM_CP\"]], train[ycol])"
   ]
  },
  {
   "cell_type": "code",
   "execution_count": 42,
   "id": "2e700e2e-dc21-4124-b648-bac15f68eb0c",
   "metadata": {},
   "outputs": [
    {
     "data": {
      "text/plain": [
       "model1    0.043920\n",
       "model2    0.039678\n",
       "dtype: float64"
      ]
     },
     "execution_count": 42,
     "metadata": {},
     "output_type": "execute_result"
    }
   ],
   "source": [
    "err = pd.Series({\"model1\": model1_scores.std(),\n",
    "                   \"model2\": model2_scores.std(),})\n",
    "err"
   ]
  },
  {
   "cell_type": "code",
   "execution_count": 43,
   "id": "e87f18ea-1627-4af9-a57a-58c6cedf9f5b",
   "metadata": {},
   "outputs": [
    {
     "data": {
      "text/plain": [
       "<AxesSubplot:>"
      ]
     },
     "execution_count": 43,
     "metadata": {},
     "output_type": "execute_result"
    },
    {
     "data": {
      "image/png": "[encoded data removed]",
      "text/plain": [
       "<Figure size 300x300 with 1 Axes>"
      ]
     },
     "metadata": {},
     "output_type": "display_data"
    }
   ],
   "source": [
    "means = pd.Series({\"model1\": model1_scores.mean(),\n",
    "                   \"model2\": model2_scores.mean(),})\n",
    "means.plot.bar(figsize=(3,3), yerr=err)\n",
    "# TODO: pick a winner, run it one more time against the test data"
   ]
  },
  {
   "cell_type": "code",
   "execution_count": 44,
   "id": "3f3e30dc-38f1-481c-b2b7-ed0a56f02a7a",
   "metadata": {},
   "outputs": [
    {
     "data": {
      "text/plain": [
       "0.612502968846914"
      ]
     },
     "execution_count": 44,
     "metadata": {},
     "output_type": "execute_result"
    }
   ],
   "source": [
    "# How can we use multiple x variables (multiple regression)?\n",
    "model = LinearRegression()\n",
    "xcols = ['POS_0_9_CP', 'POS_10_19_CP', 'POS_20_29_CP', 'POS_30_39_CP',\n",
    "       'POS_40_49_CP', 'POS_50_59_CP', 'POS_60_69_CP', 'POS_70_79_CP',\n",
    "       'POS_80_89_CP', 'POS_90_CP']\n",
    "ycol = \"DTH_CUM_CP\"\n",
    "\n",
    "model.fit(train[xcols], train[ycol])\n",
    "model.score(test[xcols], test[ycol]) # .predict on X values, then compare predicted y values to actual y vals (r2_score)"
   ]
  },
  {
   "cell_type": "code",
   "execution_count": 48,
   "id": "363803f8-49fb-4d4c-86b6-d3a091ee3b5e",
   "metadata": {},
   "outputs": [
    {
     "data": {
      "text/plain": [
       "array([-3.14424767e-02,  3.19603985e-05, -6.66670727e-04,  1.48477020e-02,\n",
       "        1.06632178e-02, -4.01242448e-03,  8.02119861e-03, -3.04084681e-03,\n",
       "        1.56718566e-01,  1.89015037e-01])"
      ]
     },
     "execution_count": 48,
     "metadata": {},
     "output_type": "execute_result"
    }
   ],
   "source": [
    "# How can we interpret what features the model is relying on?\n",
    "model.coef_"
   ]
  },
  {
   "cell_type": "code",
   "execution_count": 52,
   "id": "93c2cff1-1aa0-49b8-8f85-9333afea98c2",
   "metadata": {},
   "outputs": [
    {
     "data": {
      "text/plain": [
       "<AxesSubplot:>"
      ]
     },
     "execution_count": 52,
     "metadata": {},
     "output_type": "execute_result"
    },
    {
     "data": {
      "image/png": "[encoded data removed]",
      "text/plain": [
       "<Figure size 300x200 with 1 Axes>"
      ]
     },
     "metadata": {},
     "output_type": "display_data"
    }
   ],
   "source": [
    "pd.Series(model.coef_, index=xcols).plot.bar(figsize=(3,2))"
   ]
  }
 ],
 "metadata": {
  "kernelspec": {
   "display_name": "Python 3 (ipykernel)",
   "language": "python",
   "name": "python3"
  },
  "language_info": {
   "codemirror_mode": {
    "name": "ipython",
    "version": 3
   },
   "file_extension": ".py",
   "mimetype": "text/x-python",
   "name": "python",
   "nbconvert_exporter": "python",
   "pygments_lexer": "ipython3",
   "version": "3.10.6"
  }
 },
 "nbformat": 4,
 "nbformat_minor": 5
}
