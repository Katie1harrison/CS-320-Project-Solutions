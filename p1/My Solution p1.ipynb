{
 "cells": [
  {
   "cell_type": "code",
   "execution_count": 1,
   "id": "02454acc-929f-456c-a72b-21c58ae5a7c4",
   "metadata": {},
   "outputs": [],
   "source": [
    "# project: p1\n",
    "# submitter: kfharrison\n",
    "# partner: none\n",
    "# hours: 16"
   ]
  },
  {
   "cell_type": "code",
   "execution_count": 2,
   "id": "1d88eb70-e36b-49ff-a725-c6c9aead01e6",
   "metadata": {},
   "outputs": [],
   "source": [
    "import matplotlib.pyplot as plt\n",
    "from time import time\n",
    "import subprocess\n",
    "from subprocess import check_output \n",
    "import numpy as np\n",
    "import os\n",
    "import pandas as pd\n",
    "import json\n",
    "import copy"
   ]
  },
  {
   "cell_type": "code",
   "execution_count": 3,
   "id": "68d0c1b8-1010-4d6b-99ec-af0e069d2e02",
   "metadata": {},
   "outputs": [
    {
     "data": {
      "text/plain": [
       "float"
      ]
     },
     "execution_count": 3,
     "metadata": {},
     "output_type": "execute_result"
    }
   ],
   "source": [
    "#Q1\n",
    "type(7/2)"
   ]
  },
  {
   "cell_type": "code",
   "execution_count": 4,
   "id": "ba9a8a5d-c26c-4c03-9272-39529413432b",
   "metadata": {},
   "outputs": [
    {
     "data": {
      "text/plain": [
       "True"
      ]
     },
     "execution_count": 4,
     "metadata": {},
     "output_type": "execute_result"
    }
   ],
   "source": [
    "#Q2\n",
    "\n",
    "\n",
    "x = 4\n",
    "maximum = 10\n",
    "minimum = 5\n",
    "error = bool(x < minimum or  x > maximum)\n",
    "error   \n",
    "\n"
   ]
  },
  {
   "cell_type": "code",
   "execution_count": 5,
   "id": "8b31900c-9b52-48f4-aa3f-4c5809c0e1eb",
   "metadata": {},
   "outputs": [
    {
     "data": {
      "text/plain": [
       "True"
      ]
     },
     "execution_count": 5,
     "metadata": {},
     "output_type": "execute_result"
    }
   ],
   "source": [
    "#Q3\n",
    "\n",
    "word = \"KAFKAESQUE\"\n",
    "suffix_match =  \"esque\" == word.lower()[-5:] # .endswith(...) method not allowed for this question! (practice slicing)\n",
    "suffix_match\n",
    "\n",
    "\n"
   ]
  },
  {
   "cell_type": "code",
   "execution_count": 6,
   "id": "3490def8-7741-4588-9937-cafeb663dd98",
   "metadata": {},
   "outputs": [
    {
     "data": {
      "text/plain": [
       "7"
      ]
     },
     "execution_count": 6,
     "metadata": {},
     "output_type": "execute_result"
    }
   ],
   "source": [
    "#Q4\n",
    "\n",
    "def add(x=1,y=1):\n",
    "    sum = x + y\n",
    "    return sum\n",
    "\n",
    "add(3, 4)"
   ]
  },
  {
   "cell_type": "code",
   "execution_count": 7,
   "id": "1423e0f0-44d0-49da-b70d-0018d6520b55",
   "metadata": {},
   "outputs": [
    {
     "data": {
      "text/plain": [
       "10"
      ]
     },
     "execution_count": 7,
     "metadata": {},
     "output_type": "execute_result"
    }
   ],
   "source": [
    "#Q5\n",
    "add(9)"
   ]
  },
  {
   "cell_type": "code",
   "execution_count": 8,
   "id": "a8c75bab-c8b8-4003-9658-4d74099b80af",
   "metadata": {},
   "outputs": [
    {
     "data": {
      "text/plain": [
       "'positive'"
      ]
     },
     "execution_count": 8,
     "metadata": {},
     "output_type": "execute_result"
    }
   ],
   "source": [
    "#Q6\n",
    "\n",
    "x = 4\n",
    "if x<0:\n",
    "    status = \"negative\"    \n",
    "elif x>0:\n",
    "     status = \"positive\"\n",
    "else:\n",
    "     status = \"zero\"\n",
    "    \n",
    "    \n",
    "    \n",
    "status"
   ]
  },
  {
   "cell_type": "code",
   "execution_count": 9,
   "id": "28ecab6d-c63b-41ac-baaf-04ba1bd668c3",
   "metadata": {},
   "outputs": [
    {
     "data": {
      "text/plain": [
       "14"
      ]
     },
     "execution_count": 9,
     "metadata": {},
     "output_type": "execute_result"
    }
   ],
   "source": [
    "#Q7\n",
    "\n",
    "nums = [3, 4, 1, 6]\n",
    "  \n",
    "def smart_count(lis_nums):\n",
    "    t=0\n",
    "    for num in lis_nums:\n",
    "        if num < 0:\n",
    "            break\n",
    "        elif num > 10:\n",
    "            continue\n",
    "        else:\n",
    "            t += num\n",
    "            #print(type(t))\n",
    "            \n",
    "    return t\n",
    "\n",
    "smart_count(nums)"
   ]
  },
  {
   "cell_type": "code",
   "execution_count": 10,
   "id": "125d97af-7ed1-479b-9ab5-70e5460d388a",
   "metadata": {},
   "outputs": [
    {
     "data": {
      "text/plain": [
       "6"
      ]
     },
     "execution_count": 10,
     "metadata": {},
     "output_type": "execute_result"
    }
   ],
   "source": [
    "#Q8\n",
    "\n",
    "smart_count([2, 1, 11, 3, 15, -1, 8, 2])"
   ]
  },
  {
   "cell_type": "code",
   "execution_count": 11,
   "id": "7aece14b-0c03-4efd-a540-22ae3bb00d30",
   "metadata": {},
   "outputs": [
    {
     "data": {
      "text/plain": [
       "[[1, 6, {'x': 8, 'y': 5}],\n",
       " [3, 4, {'x': 9, 'y': 2}],\n",
       " [5, 2, {'x': 3, 'y': 1, 'z': 3.14}]]"
      ]
     },
     "execution_count": 11,
     "metadata": {},
     "output_type": "execute_result"
    }
   ],
   "source": [
    "#Q9\n",
    "\n",
    "header = [\"A\", \"B\", \"C\"]\n",
    "\n",
    "coord1 = {\"x\": 8, \"y\": 5}\n",
    "coord2 = {\"x\": 9, \"y\": 2}\n",
    "coord3 = {\"x\": 3, \"y\": 1}\n",
    "\n",
    "rows = [\n",
    "    [1, 6, coord1],\n",
    "    [3, 4, coord2],\n",
    "    [5, 2, coord3],\n",
    "]\n",
    "\n",
    "#{\"A\":1, \"B\":2} == {\"B\":2, \"A\":1}\n",
    "\n",
    "\n",
    "\n",
    "\n",
    "\n",
    "coord3[\"z\"] = 3.14\n",
    "rows\n",
    "\n",
    "\n"
   ]
  },
  {
   "cell_type": "code",
   "execution_count": 12,
   "id": "19ca7812-487a-4c1c-ba30-5998de610f3a",
   "metadata": {},
   "outputs": [
    {
     "data": {
      "text/plain": [
       "8"
      ]
     },
     "execution_count": 12,
     "metadata": {},
     "output_type": "execute_result"
    }
   ],
   "source": [
    "#Q10\n",
    "\n",
    "\n",
    "rows[0][-1][\"x\"]\n"
   ]
  },
  {
   "cell_type": "code",
   "execution_count": 13,
   "id": "70f547d8-cdfe-469a-bdee-97dc649567d4",
   "metadata": {},
   "outputs": [
    {
     "data": {
      "text/plain": [
       "[[1, 6, {'x': 8, 'y': 5}],\n",
       " [3, 9999, {'x': 9, 'y': 2}],\n",
       " [5, 2, {'x': 3, 'y': 1, 'z': 3.14}]]"
      ]
     },
     "execution_count": 13,
     "metadata": {},
     "output_type": "execute_result"
    }
   ],
   "source": [
    "#Q11\n",
    "\n",
    "\n",
    "v2 = copy.copy(rows)\n",
    "\n",
    "v2[0] = 8888   # first change\n",
    "v2[1][1] = 9999 # second change\n",
    "\n",
    "rows"
   ]
  },
  {
   "cell_type": "code",
   "execution_count": 14,
   "id": "df42a92f-f44c-4d50-b401-a9cd3c5aed4f",
   "metadata": {},
   "outputs": [
    {
     "data": {
      "text/plain": [
       "10007"
      ]
     },
     "execution_count": 14,
     "metadata": {},
     "output_type": "execute_result"
    }
   ],
   "source": [
    "#Q12\n",
    "\n",
    "B_col=[]\n",
    "for a in range(len(rows)):\n",
    "    B_col.append(rows[a][header.index(\"B\")])\n",
    "\n",
    "sum(B_col)\n",
    "\n"
   ]
  },
  {
   "cell_type": "code",
   "execution_count": 15,
   "id": "c32678f5-8b0e-4f78-9c3b-2f75661a4f49",
   "metadata": {},
   "outputs": [
    {
     "data": {
      "text/plain": [
       "[[3, 9999, {'x': 9, 'y': 2}],\n",
       " [1, 6, {'x': 8, 'y': 5}],\n",
       " [5, 2, {'x': 3, 'y': 1, 'z': 3.14}]]"
      ]
     },
     "execution_count": 15,
     "metadata": {},
     "output_type": "execute_result"
    }
   ],
   "source": [
    "#Q13\n",
    "\n",
    "rows.sort(key=lambda row: row[header.index(\"B\")], reverse=True)\n",
    "rows\n"
   ]
  },
  {
   "cell_type": "code",
   "execution_count": 16,
   "id": "f9dec8f2-d2fc-4cbd-a3bf-d24c98245895",
   "metadata": {},
   "outputs": [
    {
     "data": {
      "text/plain": [
       "400.25981414744"
      ]
     },
     "execution_count": 16,
     "metadata": {},
     "output_type": "execute_result"
    }
   ],
   "source": [
    "#Q14\n",
    "\n",
    "\n",
    "\n",
    "\n",
    "\n",
    "f = open(\"usd.json\")\n",
    "#data = f.read()\n",
    "data = json.load(f)\n",
    "#print(data)\n",
    "f.close()\n",
    "\n",
    "\n",
    "#print(type(data))\n",
    "Num_of_euros = data[\"eur\"]['rate']* 400\n",
    "Num_of_euros"
   ]
  },
  {
   "cell_type": "code",
   "execution_count": 17,
   "id": "5cbba266-b010-46c1-ae67-7241075fe1e6",
   "metadata": {},
   "outputs": [
    {
     "data": {
      "text/plain": [
       "1.5"
      ]
     },
     "execution_count": 17,
     "metadata": {},
     "output_type": "execute_result"
    }
   ],
   "source": [
    "#Q15\n",
    "\n",
    "\n",
    "def divide(x=1,y=1):\n",
    "#while True:\n",
    "    try:\n",
    "        a=x/y\n",
    "        return(a)\n",
    "    except ZeroDivisionError:\n",
    "        return(float(\"nan\"))\n",
    "              \n",
    "#divide(1,0) \n",
    "\n",
    "\n",
    "divide(3, 2)"
   ]
  },
  {
   "cell_type": "code",
   "execution_count": 18,
   "id": "23f641b0-16e4-439c-8a9f-cbdc5bcd173a",
   "metadata": {},
   "outputs": [
    {
     "data": {
      "text/plain": [
       "nan"
      ]
     },
     "execution_count": 18,
     "metadata": {},
     "output_type": "execute_result"
    }
   ],
   "source": [
    "#Q16\n",
    "\n",
    "divide(-3, 0)"
   ]
  },
  {
   "cell_type": "code",
   "execution_count": 19,
   "id": "80d0ce14-f1bc-49ec-b549-c57a31b33ef7",
   "metadata": {
    "tags": []
   },
   "outputs": [
    {
     "data": {
      "text/plain": [
       "[2013, 2014, 2015, 2016, 2017, 2018]"
      ]
     },
     "execution_count": 19,
     "metadata": {},
     "output_type": "execute_result"
    }
   ],
   "source": [
    "#Q17\n",
    "\n",
    "\n",
    "#start with getting a list of file names\n",
    "dir_list = os.listdir(\"home-computers\")\n",
    "dir_list.pop(1)\n",
    "sorted_dir = sorted(dir_list)\n",
    "#print(sorted_dir)\n",
    "years = {}\n",
    "#loop over file names for name in list\n",
    "for name in sorted_dir:\n",
    "    #print(name)\n",
    "    results_split= name[7:].split('.')\n",
    "    #print(results_split)\n",
    "    years[int(results_split[0])]= pd.read_csv(os.path.join(\"home-computers\",name),skiprows=1).set_index(\"Geographic Area Name\")\n",
    "    #print(years)\n",
    "\n",
    "sorted(years.keys())\n",
    "\n",
    "#sorted_dir"
   ]
  },
  {
   "cell_type": "code",
   "execution_count": 20,
   "id": "c2c008f5-4f87-43d3-8ea4-f7d3a2b3cc75",
   "metadata": {},
   "outputs": [
    {
     "data": {
      "text/plain": [
       "2371960"
      ]
     },
     "execution_count": 20,
     "metadata": {},
     "output_type": "execute_result"
    }
   ],
   "source": [
    "#Q18\n",
    "\n",
    "\n",
    "df_18 = years[2018]\n",
    "\n",
    "df_18.loc[\"Wisconsin\"][\"Estimate!!Total\"]\n",
    "\n",
    "\n",
    "\n",
    "\n"
   ]
  },
  {
   "cell_type": "code",
   "execution_count": 21,
   "id": "68621af6-6d58-4975-b86d-6b3b640f89a3",
   "metadata": {},
   "outputs": [
    {
     "data": {
      "text/plain": [
       "10285814"
      ]
     },
     "execution_count": 21,
     "metadata": {},
     "output_type": "execute_result"
    }
   ],
   "source": [
    "#Q19\n",
    "\n",
    "sum(df_18.loc[:,\"Estimate!!Total!!No Computer\"])"
   ]
  },
  {
   "cell_type": "code",
   "execution_count": 22,
   "id": "baf8cdea-6501-4da5-9a51-c65ac485ab6b",
   "metadata": {},
   "outputs": [
    {
     "data": {
      "text/plain": [
       "0.12375641594322287"
      ]
     },
     "execution_count": 22,
     "metadata": {},
     "output_type": "execute_result"
    }
   ],
   "source": [
    "#Q20\n",
    "\n",
    "\n",
    "max(df_18.loc[:,\"Margin of Error!!Total!!No Computer\"] / df_18.loc[:,\"Estimate!!Total!!No Computer\"])\n",
    "\n",
    "\n",
    "\n",
    "\n"
   ]
  },
  {
   "cell_type": "code",
   "execution_count": 23,
   "id": "907eb7a6-1ab4-4700-b130-b8eb690f7991",
   "metadata": {},
   "outputs": [
    {
     "data": {
      "text/plain": [
       "{'Illinois': 8.524143737625552,\n",
       " 'Iowa': 9.468929459023103,\n",
       " 'Michigan': 8.936374942955922,\n",
       " 'Minnesota': 7.491847623005652,\n",
       " 'Wisconsin': 9.582497175331794,\n",
       " 'Indiana': 9.463486214247707}"
      ]
     },
     "execution_count": 23,
     "metadata": {},
     "output_type": "execute_result"
    }
   ],
   "source": [
    "#Q21\n",
    "\n",
    "dict_badgers = {}\n",
    "\n",
    "states = [\"Illinois\", \"Iowa\", \"Michigan\", \"Minnesota\", \"Wisconsin\",\"Indiana\"]\n",
    "\n",
    "for state in states:\n",
    "    dict_badgers[state] = 100 * (df_18.loc[state][\"Estimate!!Total!!No Computer\"]/df_18.loc[state][\"Estimate!!Total\"])\n",
    "\n",
    "\n",
    "dict_badgers\n",
    "\n",
    "\n",
    "\n",
    "\n",
    "\n"
   ]
  },
  {
   "cell_type": "code",
   "execution_count": 24,
   "id": "165479be-06a1-4bbe-bafd-d8f7149a8739",
   "metadata": {},
   "outputs": [
    {
     "data": {
      "text/plain": [
       "Text(0, 0.5, '% of households w/o Computers')"
      ]
     },
     "execution_count": 24,
     "metadata": {},
     "output_type": "execute_result"
    },
    {
     "data": {
      "image/png": "[encoded data removed]",
      "text/plain": [
       "<Figure size 640x480 with 1 Axes>"
      ]
     },
     "metadata": {},
     "output_type": "display_data"
    }
   ],
   "source": [
    "#Q22:\n",
    "\n",
    "names = list(dict_badgers.keys())\n",
    "values = list(dict_badgers.values())\n",
    "\n",
    "plt.bar(names,values)\n",
    "plt.xlabel('Geographic Area Name')\n",
    "plt.ylabel(\"% of households w/o Computers\")\n"
   ]
  },
  {
   "cell_type": "code",
   "execution_count": 25,
   "id": "224375a9-9142-426d-a8f8-aa5867dd7d83",
   "metadata": {},
   "outputs": [
    {
     "data": {
      "text/plain": [
       "([<matplotlib.axis.YTick at 0x7f40eb601a90>,\n",
       "  <matplotlib.axis.YTick at 0x7f40eb601310>,\n",
       "  <matplotlib.axis.YTick at 0x7f40eb5f81f0>,\n",
       "  <matplotlib.axis.YTick at 0x7f40eb62c5b0>],\n",
       " [Text(0, 0, ''), Text(0, 0, ''), Text(0, 0, ''), Text(0, 0, '')])"
      ]
     },
     "execution_count": 25,
     "metadata": {},
     "output_type": "execute_result"
    },
    {
     "data": {
      "image/png": "[encoded data removed]",
      "text/plain": [
       "<Figure size 640x480 with 1 Axes>"
      ]
     },
     "metadata": {},
     "output_type": "display_data"
    }
   ],
   "source": [
    "#Q23\n",
    "x_axis = []\n",
    "y_axis = []\n",
    "\n",
    "for i in years:\n",
    "    yea = years[i].loc[\"Wisconsin\"][\"Estimate!!Total!!No Computer\"]\n",
    "    x_axis.append(int(i))\n",
    "    y_axis.append(yea/(10**3))\n",
    "    \n",
    "\n",
    "\n",
    "\n",
    "plt.plot(x_axis,y_axis)\n",
    "plt.xlabel('Year')\n",
    "plt.ylabel('WI Households without computers (thousands)')\n",
    "plt.yticks(np.arange(0, 400, 100))"
   ]
  },
  {
   "cell_type": "code",
   "execution_count": 26,
   "id": "9fd57186-c749-4734-81c2-d9f360fd2e73",
   "metadata": {},
   "outputs": [
    {
     "data": {
      "text/plain": [
       "Text(0, 0.5, 'Tablets (millions)')"
      ]
     },
     "execution_count": 26,
     "metadata": {},
     "output_type": "execute_result"
    },
    {
     "data": {
      "image/png": "[encoded data removed]",
      "text/plain": [
       "<Figure size 640x480 with 1 Axes>"
      ]
     },
     "metadata": {},
     "output_type": "display_data"
    }
   ],
   "source": [
    "#Q24\n",
    "\n",
    "\n",
    "df_18 = years[2018]\n",
    "df_graph = df_18[[\"Estimate!!Total!!Has one or more types of computing devices!!Tablet or other portable wireless computer\", \"Estimate!!Total!!Has one or more types of computing devices!!Smartphone\"]]\n",
    "df_graph\n",
    "\n",
    "ax= df_graph.plot.scatter(x = (\"Estimate!!Total!!Has one or more types of computing devices!!Smartphone\"), y = \"Estimate!!Total!!Has one or more types of computing devices!!Tablet or other portable wireless computer\")\n",
    "\n",
    "ax.set_xlabel(\"Smartphones ( millions)\")\n",
    "ax.set_ylabel(\"Tablets (millions)\")\n",
    "              \n"
   ]
  },
  {
   "cell_type": "code",
   "execution_count": 27,
   "id": "63bbe872-49ac-4fe4-8e7d-e8317b5efe7b",
   "metadata": {},
   "outputs": [
    {
     "name": "stderr",
     "output_type": "stream",
     "text": [
      "Previous HEAD position was 4ec7d2a0 Started working on documentation.\n",
      "Switched to branch 'main'\n"
     ]
    },
    {
     "data": {
      "text/plain": [
       "'commit 660994efc761efdfd49ca442b73f6712dc77b6cf'"
      ]
     },
     "execution_count": 27,
     "metadata": {},
     "output_type": "execute_result"
    }
   ],
   "source": [
    "#Q25 \n",
    "\n",
    "output=check_output([\"git\",\"checkout\",\"main\"],cwd = \"flask\") \n",
    "\n",
    "out_put = check_output([\"git\",\"log\"],cwd = \"flask\") \n",
    "\n",
    "  \n",
    "\n",
    "str_output = str(out_put, encoding=\"utf-8\") \n",
    "\n",
    "  \n",
    "\n",
    "str_output.split(\"\\n\")[0] \n",
    "\n",
    " "
   ]
  },
  {
   "cell_type": "code",
   "execution_count": 28,
   "id": "bc670407-8bd7-4610-95b5-1d1fd330204f",
   "metadata": {},
   "outputs": [
    {
     "data": {
      "text/plain": [
       "['7b5015010bc8c2a2d56c7c50b37e5b9facdad102',\n",
       " '40e0024d7b87150ed694829a5335bd2435962225',\n",
       " '6dd92ae4b32c336564231e10db12458a8b9261ca',\n",
       " '1246f4088a4fdc00a79f8029ff5d77bfe4fc9b14',\n",
       " 'c4f5c2fb9afc1679c085500830bd53fab93ad885',\n",
       " '1d8432ebfd1637eacab79a15e9b7963bf061371c',\n",
       " 'fc94599285aa1aec50b3c9426697249e55edda0a',\n",
       " 'c33675f0251071ea47ce166b81ce8c637842f091',\n",
       " '2d9bb692728fd76b19e467499caa4f5fcb07aede',\n",
       " 'ca520fb7e4c29afccc637e61c11429a0f3e8d5ad',\n",
       " '08f1f0dc32004fae01cf96d1eed84e6461e698e5',\n",
       " '8009bd986940378bba1399dbfce90d03e441467b',\n",
       " 'a42728568e18bedf588be2357b56021ab85b9fad',\n",
       " '959b5df00431c436474c5abca304e631c0de7721',\n",
       " '4affedec356ad8c9e6a107578f03fc7f5c615064',\n",
       " 'de03143f6ecf9a36dd32f16f07309c64d4de03b0',\n",
       " 'a01e8b49ca66608f0bd46134ff02deeb5724c799',\n",
       " '36071ca1f42a26ef327e9d14e4909a8c92cd4fae',\n",
       " '51c9829a9cdfa2bf301431f686d7a404cc7c5083',\n",
       " '2f5a4f8dbc832b0daebcd66ea8b3969589191fa7',\n",
       " '03148dba6b26a2694da1d466584f50189c52e7b3',\n",
       " 'ef524f2cfd65377b3b9ce896e7a710472b13c0f6',\n",
       " 'f2dc38cda61f76c64b97ab9f730accc986a4b188',\n",
       " '03168a5d53457fdb8676a4ac9fca0f76a23c6852',\n",
       " '0b8e01b4450d0ba8cb65751d866568fddc155fa4',\n",
       " '6a3a046f55755f0691568431e68a8bfea8d89df0',\n",
       " 'd78b04a3fca8d8887382606897d4a97e55062fda',\n",
       " '4671429a509094f36e2294055340197091d39979',\n",
       " '4e7aa9e7f7a86ee0ea4b6801694c13151518cb52',\n",
       " '85ca089dde8814c4a42ad4574cddce25d60e5e25',\n",
       " '8171da88a49eba769d313a51591ee8575be59762',\n",
       " 'df929c6c77ea5490a969275e45075c29711a498c',\n",
       " '574e81f9c8bbdc41958e1e7a7613633b091101f8',\n",
       " '1fff3e598126a084348ec2c112fdd3bc6b9a1ee0',\n",
       " '05f36c7f7e2df36ee28f90d99632162579b1287c',\n",
       " '4e1b3e1134eb478563bc434d794085d0a412cb84',\n",
       " '8e9bd5f009bb8756a2a7d76a4b792323eeee49d6',\n",
       " '9dfab582d065521e9350327801ed2c5ced1c8fa1',\n",
       " '3d719f35f5c1ee4ce3dc01fb2167ef49c0180cf6',\n",
       " '7d6b8e9ab3e738d69e39ad53a7c0f6a552d5284a',\n",
       " 'a9d4ea81da28ee9c894bf9d45adc4cfa9d52fddc',\n",
       " '727c701686c18c4a27ca523eb0c5862d497be24e',\n",
       " '4edec48b74dbb9d571e927b69b24c30ec0624975',\n",
       " '625eba4bb403296a8bbc1e72cc9cf4a5126f6c02',\n",
       " '4aa76212d1be9b17a57249549c2a73fb10b6cda8',\n",
       " '3b36bef2e6165bb4dad73d17f23ee1879e99f497',\n",
       " '44b42e0fbd93d86e0f4e929bda8e5fb63e81035d',\n",
       " '4ec7d2a0d8eac4f915dc0d38a886cd57045bb0c4',\n",
       " 'b15ad394279fc3b7f998fa56857f334a7c0156f6',\n",
       " '33850c0ebd23ae615e6823993d441f46d80b1ff0']"
      ]
     },
     "execution_count": 28,
     "metadata": {},
     "output_type": "execute_result"
    }
   ],
   "source": [
    "#Q26 \n",
    "\n",
    "list_strings = str_output.split(\"\\n\") \n",
    "\n",
    "list_commits=[] \n",
    "\n",
    "\n",
    "\n",
    "#in is the jupyter version of contains\n",
    "for line in list_strings: \n",
    "\n",
    "    if line.startswith(\"commit\"): \n",
    "\n",
    "        list_commits.append(line.split(\" \")[-1]) \n",
    "\n",
    "         \n",
    "\n",
    "list_commits[-50:] \n",
    "\n",
    " \n",
    "\n",
    " "
   ]
  },
  {
   "cell_type": "code",
   "execution_count": 29,
   "id": "fb36189d-8919-4746-990d-0f104a2a25e4",
   "metadata": {},
   "outputs": [
    {
     "name": "stderr",
     "output_type": "stream",
     "text": [
      "Note: switching to '4ec7d2a0d8eac4f915dc0d38a886cd57045bb0c4'.\n",
      "\n",
      "You are in 'detached HEAD' state. You can look around, make experimental\n",
      "changes and commit them, and you can discard any commits you make in this\n",
      "state without impacting any branches by switching back to a branch.\n",
      "\n",
      "If you want to create a new branch to retain commits you create, you may\n",
      "do so (now or later) by using -c with the switch command. Example:\n",
      "\n",
      "  git switch -c <new-branch-name>\n",
      "\n",
      "Or undo this operation with:\n",
      "\n",
      "  git switch -\n",
      "\n",
      "Turn off this advice by setting config variable advice.detachedHead to false\n",
      "\n",
      "HEAD is now at 4ec7d2a0 Started working on documentation.\n"
     ]
    },
    {
     "data": {
      "text/plain": [
       "\"\\n                        // Flask //\\n\\n     because a pocket knife is not the only thing that\\n                    might come in handy\\n\\n\\n    ~ What is Flask?\\n\\n      Flask is a microframework for Python based on Werkzeug\\n      and Jinja2.  It's intended for small scale applications\\n      and was development with best intentions in mind.\\n\\n   ~ Is it ready?\\n\\n      Nope, this is still work in progress, but I am happy to\\n      accept patches and improvements already.\\n\""
      ]
     },
     "execution_count": 29,
     "metadata": {},
     "output_type": "execute_result"
    }
   ],
   "source": [
    "#Q27 \n",
    "\n",
    "check_output([\"git\",\"checkout\",list_commits[-50:][-3]],cwd = \"flask\") \n",
    "\n",
    "f = open(\"flask/README\") \n",
    "\n",
    "data = f.read() \n",
    "\n",
    "f.close() \n",
    "\n",
    "  \n",
    "\n",
    "data "
   ]
  },
  {
   "cell_type": "code",
   "execution_count": 30,
   "id": "7e4e4be8-86b0-4a72-9883-85898a8a349d",
   "metadata": {},
   "outputs": [
    {
     "data": {
      "text/plain": [
       "{'pallets': 204,\n",
       " 'greyli': 42,\n",
       " 'pgjones': 14,\n",
       " 'garenchan': 8,\n",
       " 'ThiefMaster': 11,\n",
       " 'davidism': 45,\n",
       " 'dawran6': 7,\n",
       " 'jeffwidman': 8,\n",
       " 'lord63-forks': 5,\n",
       " 'untitaker': 20,\n",
       " 'Winnetou': 6,\n",
       " 'defuz': 6,\n",
       " 'ThomasWaldmann': 13,\n",
       " 'methane': 5,\n",
       " 'SimonSapin': 11}"
      ]
     },
     "execution_count": 30,
     "metadata": {},
     "output_type": "execute_result"
    }
   ],
   "source": [
    "#Q28\n",
    "\n",
    "list_names = []\n",
    "lis_mergers = {}\n",
    "list_strings=str_output.split(\"\\n\")\n",
    " \n",
    "\n",
    "for line in list_strings: \n",
    "    #print(line)\n",
    "    if \"Merge pull request\" in line and \"/\" in line:\n",
    "        #split_list =line.split(\" \")\n",
    "        #print(split_list)\n",
    "        #for ele in split_list:\n",
    "            #if \"/\" in ele:\n",
    "                #print(ele)\n",
    "        name = line.split(\"/\")[0].split(\" \")[-1]\n",
    "        list_names.append(name)\n",
    "        for n in list_names:\n",
    "            if list_names.count(n) >= 5:\n",
    "                lis_mergers[n] = list_names.count(n)\n",
    "lis_mergers           \n",
    "\n",
    "\n"
   ]
  },
  {
   "cell_type": "code",
   "execution_count": 31,
   "id": "ffcb4875-b3cc-4c5a-85fb-e7c3500406af",
   "metadata": {},
   "outputs": [
    {
     "data": {
      "text/plain": [
       "'ERROR: unknown command \"instal\" - maybe you meant \"install\"\\n'"
      ]
     },
     "execution_count": 31,
     "metadata": {},
     "output_type": "execute_result"
    }
   ],
   "source": [
    "#Q29\n",
    "\n",
    "\n",
    "\n",
    "\n",
    "try:\n",
    "    msg = check_output([\"pip3\", \"instal\"], stderr=subprocess.STDOUT)\n",
    "except subprocess.CalledProcessError as e:\n",
    "    msg = e.output\n",
    "    \n",
    "str(msg, \"utf-8\")"
   ]
  },
  {
   "cell_type": "code",
   "execution_count": 32,
   "id": "1f15004b-d1ea-4221-83aa-dc94d4d45a6f",
   "metadata": {},
   "outputs": [
    {
     "data": {
      "text/plain": [
       "<AxesSubplot:xlabel='Rows', ylabel='Milliseconds'>"
      ]
     },
     "execution_count": 32,
     "metadata": {},
     "output_type": "execute_result"
    },
    {
     "data": {
      "image/png": "[encoded data removed]",
      "text/plain": [
       "<Figure size 640x480 with 1 Axes>"
      ]
     },
     "metadata": {},
     "output_type": "display_data"
    }
   ],
   "source": [
    "#Q30\n",
    "\n",
    "def rand_df(rows):\n",
    "    return pd.DataFrame(np.random.randint(10, size=(rows, 4)),\n",
    "                        columns=[\"A\", \"B\", \"C\", \"D\"],\n",
    "                        index=[f\"r{i}\" for i in range(1, rows+1)])\n",
    "\n",
    "\n",
    "\n",
    "times_df = pd.DataFrame(dtype=float)\n",
    "for row_size in [1000,2000,3000,4000,5000]:\n",
    "    df = rand_df(row_size)\n",
    "    \n",
    "    \n",
    "    t0 = time()\n",
    "    # HOW LONG DOES THIS TAKE TO RUN, FOR DATAFRAMES WITH DIFFERENT NUMBERS OF ROWS?\n",
    "    for row in df.iterrows():\n",
    "        #print(row)\n",
    "        pass\n",
    "    t1 = time()\n",
    "    times_df.at[row_size, \"itterrow\"] = (t1-t0)*1000\n",
    "    \n",
    "    \n",
    "    t0 = time()\n",
    "    for row in df.itertuples():\n",
    "        #print(row)\n",
    "        pass\n",
    "    t1 = time()\n",
    "    times_df.at[row_size, \"ittertuples\"] = (t1-t0)*1000\n",
    "times_df.plot(xlabel = \"Rows\", ylabel = \"Milliseconds\")"
   ]
  },
  {
   "cell_type": "code",
   "execution_count": 33,
   "id": "60bb3210-1f1e-4ea3-b1a5-4a9422a73d28",
   "metadata": {},
   "outputs": [
    {
     "data": {
      "text/plain": [
       "<AxesSubplot:xlabel='Rows', ylabel='Milliseconds'>"
      ]
     },
     "execution_count": 33,
     "metadata": {},
     "output_type": "execute_result"
    },
    {
     "data": {
      "image/png": "[encoded data removed]",
      "text/plain": [
       "<Figure size 640x480 with 1 Axes>"
      ]
     },
     "metadata": {},
     "output_type": "display_data"
    }
   ],
   "source": [
    "#Q31\n",
    "\n",
    "q31_df = pd.DataFrame(dtype=float)\n",
    "for row_size in [1000,2000,3000,4000,5000]:\n",
    "    df = rand_df(row_size)\n",
    "\n",
    "    t0 = time()\n",
    "    total = 0\n",
    "    for idx in df.index:\n",
    "        for col in df.columns:\n",
    "            total += df.loc[idx, col]\n",
    "    t1 = time()\n",
    "    q31_df.at[row_size, \"loc\"] = (t1-t0)*1000\n",
    "    t0 = time()\n",
    "    total = 0\n",
    "    for idx in df.index:\n",
    "        for col in df.columns:\n",
    "            total += df.at[idx, col]\n",
    "    t1 = time()\n",
    "\n",
    "    q31_df.at[row_size, \"at\"] = (t1-t0)*1000\n",
    "    #print(q31_df)\n",
    "\n",
    "\n",
    "q31_df.plot(xlabel = \"Rows\", ylabel = \"Milliseconds\")"
   ]
  },
  {
   "cell_type": "code",
   "execution_count": 34,
   "id": "22d8dde6-7ef4-4346-b85f-07ca25627931",
   "metadata": {},
   "outputs": [
    {
     "data": {
      "text/plain": [
       "<AxesSubplot:xlabel='Rows', ylabel='Milliseconds'>"
      ]
     },
     "execution_count": 34,
     "metadata": {},
     "output_type": "execute_result"
    },
    {
     "data": {
      "image/png": "[encoded data removed]",
      "text/plain": [
       "<Figure size 640x480 with 1 Axes>"
      ]
     },
     "metadata": {},
     "output_type": "display_data"
    }
   ],
   "source": [
    "#Q32\n",
    "\n",
    "\n",
    "def laugh(x):\n",
    "    return \"ha\" * x\n",
    "\n",
    "\n",
    "q32_df = pd.DataFrame(dtype=float)\n",
    "for row_size in range(1000, 21000, 1000):\n",
    "    df = rand_df(row_size)\n",
    "\n",
    "    t0 = time()\n",
    "    # HOW LONG DOES THIS TAKE TO RUN, FOR DATAFRAMES WITH DIFFERENT NUMBERS OF ROWS?\n",
    "    result = df[\"A\"].apply(laugh).tolist()\n",
    "    t1 = time()\n",
    "    q32_df.at[row_size, \"apply\"] = (t1-t0)*1000\n",
    "    \n",
    "    t0 = time()\n",
    "    # HOW LONG DOES THIS TAKE TO RUN, FOR DATAFRAMES WITH DIFFERENT NUMBERS OF ROWS?\n",
    "    result = []\n",
    "    for val in df[\"A\"]:\n",
    "        result.append(laugh(val))\n",
    "    t1 = time()\n",
    "    q32_df.at[row_size, \"loop\"] = (t1-t0)*1000\n",
    "    \n",
    "q32_df.plot(xlabel = \"Rows\", ylabel = \"Milliseconds\")"
   ]
  }
 ],
 "metadata": {
  "kernelspec": {
   "display_name": "Python 3 (ipykernel)",
   "language": "python",
   "name": "python3"
  },
  "language_info": {
   "codemirror_mode": {
    "name": "ipython",
    "version": 3
   },
   "file_extension": ".py",
   "mimetype": "text/x-python",
   "name": "python",
   "nbconvert_exporter": "python",
   "pygments_lexer": "ipython3",
   "version": "3.8.10"
  }
 },
 "nbformat": 4,
 "nbformat_minor": 5
}
